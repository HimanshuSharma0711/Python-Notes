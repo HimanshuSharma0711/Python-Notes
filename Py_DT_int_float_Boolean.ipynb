{
  "nbformat": 4,
  "nbformat_minor": 0,
  "metadata": {
    "colab": {
      "provenance": [],
      "authorship_tag": "ABX9TyN017IajVPseup3K0aP972S",
      "include_colab_link": true
    },
    "kernelspec": {
      "name": "python3",
      "display_name": "Python 3"
    },
    "language_info": {
      "name": "python"
    }
  },
  "cells": [
    {
      "cell_type": "markdown",
      "metadata": {
        "id": "view-in-github",
        "colab_type": "text"
      },
      "source": [
        "<a href=\"https://colab.research.google.com/github/HimanshuSharma0711/Python-Notes/blob/main/Py_DT_int_float_Boolean.ipynb\" target=\"_parent\"><img src=\"https://colab.research.google.com/assets/colab-badge.svg\" alt=\"Open In Colab\"/></a>"
      ]
    },
    {
      "cell_type": "markdown",
      "source": [
        "1. **Integers:** (...-3,-2,-1,0,1,2,3...)\n",
        "* Denoted with 'int()'\n",
        "\n",
        "2. **Float(Decimals):**(... -3.8, -1.6, 0.0, 1.0, 2.5 ...) \n",
        "* Denoted with 'float()'\n"
      ],
      "metadata": {
        "id": "pk7lwkxpuYP4"
      }
    },
    {
      "cell_type": "code",
      "source": [
        "#Additon\n",
        "add = 52 + 48\n",
        "print('Addition: ', add)\n",
        "\n",
        "#Subtraction\n",
        "sub= 56 - 16\n",
        "print('Subtraction: ',sub)\n",
        "\n",
        "#Multiple\n",
        "Multi = 60 * 30\n",
        "print('Multiply: ',Multi)\n",
        "\n",
        "#Division: Division in python are of two types i.e. Direct Division and Floor Division\n",
        "# Direct Division\n",
        "dirDiv = 7/2\n",
        "print('Direct Division: ',dirDiv)\n",
        "\n",
        "#Floor Division: It only gives the interger part not the decimal part, use \"//\" to execute floor Division\n",
        "floordiv = 7//2\n",
        "print('Floor Division: ',floordiv)"
      ],
      "metadata": {
        "colab": {
          "base_uri": "https://localhost:8080/"
        },
        "id": "cCjvSHRPual9",
        "outputId": "f13caad2-136c-4cd6-9b9f-db561b573a2a"
      },
      "execution_count": 1,
      "outputs": [
        {
          "output_type": "stream",
          "name": "stdout",
          "text": [
            "Addition:  100\n",
            "Subtraction:  40\n",
            "Multiply:  1800\n",
            "Direct Division:  3.5\n",
            "Floor Division:  3\n"
          ]
        }
      ]
    },
    {
      "cell_type": "code",
      "source": [
        "#Power: Instead of using 4^4 use 4**4\n",
        "power = 4**4\n",
        "print('power: ',power)\n",
        "\n",
        "#Modulus: it gives the remainder of the division. '%' do not confuse it with percentage sign\n",
        "Modulus = 10%3\n",
        "print('Modulus: ',Modulus)"
      ],
      "metadata": {
        "id": "_Oeq4okWvJE-"
      },
      "execution_count": null,
      "outputs": []
    },
    {
      "cell_type": "markdown",
      "source": [
        "**Priority of Operation**\n",
        "Left to Right, '()' High priority\n",
        "Ex. \n",
        " 2+(10*10)+3 = 105\n",
        " 2+10*(10+3)= 132\n",
        "\n",
        "**Scientific Prepresentation of Numbers:**\n",
        "\n",
        "120000 = 1.2E5  i.e. (1.2x 10^5)\n",
        "\n",
        "2933.44 = 293344E-2"
      ],
      "metadata": {
        "id": "mqUidtgBvNTE"
      }
    },
    {
      "cell_type": "markdown",
      "source": [
        "3. **Boolean Variable:** Comparison operator results in True (1) or False (0)\n",
        "\n",
        "\n",
        "\n",
        "*   '==' Comparison Operation\n",
        "*   '='  Assignment Operator\n",
        "\n",
        "\n",
        "\n",
        "*   a == b (Equal to)\n",
        "*   a != b (Not Equal to)\n",
        "*   a <  b (Smaller than)\n",
        "*   a >  b (Greater Than)\n",
        "*   a >= b (Greater Than equal to)\n",
        "*   a <= b (Smaller than equal to)\n",
        "\n",
        "The result of these operation must be either True or False"
      ],
      "metadata": {
        "id": "P3QkVk4jvVu2"
      }
    },
    {
      "cell_type": "code",
      "source": [
        "a , b = 25 , 36\n",
        "\n",
        "print(a==b)\n",
        "print(a!=b)\n",
        "print(a<b)\n",
        "print(a>b)\n",
        "print(a<=b)\n",
        "print(a>=b)"
      ],
      "metadata": {
        "colab": {
          "base_uri": "https://localhost:8080/"
        },
        "id": "PwNg4uxBvXNm",
        "outputId": "4fd36088-03f6-4b12-f4ca-dceb2744efb7"
      },
      "execution_count": 3,
      "outputs": [
        {
          "output_type": "stream",
          "name": "stdout",
          "text": [
            "False\n",
            "True\n",
            "True\n",
            "False\n",
            "True\n",
            "False\n"
          ]
        }
      ]
    }
  ]
}
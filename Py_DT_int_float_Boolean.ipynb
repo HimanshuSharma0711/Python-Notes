{
  "nbformat": 4,
  "nbformat_minor": 0,
  "metadata": {
    "colab": {
      "provenance": [],
      "authorship_tag": "ABX9TyOJxbA56A5BpcRMDjK/dgmG",
      "include_colab_link": true
    },
    "kernelspec": {
      "name": "python3",
      "display_name": "Python 3"
    },
    "language_info": {
      "name": "python"
    }
  },
  "cells": [
    {
      "cell_type": "markdown",
      "metadata": {
        "id": "view-in-github",
        "colab_type": "text"
      },
      "source": [
        "<a href=\"https://colab.research.google.com/github/HimanshuSharma0711/Python-Notes/blob/main/Py_DT_int_float_Boolean.ipynb\" target=\"_parent\"><img src=\"https://colab.research.google.com/assets/colab-badge.svg\" alt=\"Open In Colab\"/></a>"
      ]
    },
    {
      "cell_type": "markdown",
      "source": [
        "1. Integers: (...-3,-2,-1,0,1,2,3) - Operations we can do with integers\n",
        "* Denoted with 'int()'"
      ],
      "metadata": {
        "id": "pk7lwkxpuYP4"
      }
    },
    {
      "cell_type": "code",
      "source": [
        "#Additon\n",
        "add = 52 + 48\n",
        "print('Addition: ', add)\n",
        "\n",
        "#Subtraction\n",
        "sub= 56 - 16\n",
        "print('Subtraction: ',sub)\n",
        "\n",
        "#Multiple\n",
        "Multi = 60 * 30\n",
        "print('Multiply: ',Multi)\n",
        "\n",
        "#Division: Division in python are of two types i.e. Direct Division and Floor Division\n",
        "# Direct Division\n",
        "dirDiv = 7/2\n",
        "print('Direct Division: ',dirDiv)\n",
        "\n",
        "#Floor Division: It only gives the interger part not the decimal part, use \"//\" to execute floor Division\n",
        "floordiv = 7//2\n",
        "print('Floor Division: ',floordiv)"
      ],
      "metadata": {
        "colab": {
          "base_uri": "https://localhost:8080/"
        },
        "id": "cCjvSHRPual9",
        "outputId": "f13caad2-136c-4cd6-9b9f-db561b573a2a"
      },
      "execution_count": 1,
      "outputs": [
        {
          "output_type": "stream",
          "name": "stdout",
          "text": [
            "Addition:  100\n",
            "Subtraction:  40\n",
            "Multiply:  1800\n",
            "Direct Division:  3.5\n",
            "Floor Division:  3\n"
          ]
        }
      ]
    }
  ]
}
{
  "nbformat": 4,
  "nbformat_minor": 0,
  "metadata": {
    "colab": {
      "provenance": [],
      "authorship_tag": "ABX9TyOrLsOJteEo2OkPjSzaabzz",
      "include_colab_link": true
    },
    "kernelspec": {
      "name": "python3",
      "display_name": "Python 3"
    },
    "language_info": {
      "name": "python"
    }
  },
  "cells": [
    {
      "cell_type": "markdown",
      "metadata": {
        "id": "view-in-github",
        "colab_type": "text"
      },
      "source": [
        "<a href=\"https://colab.research.google.com/github/HimanshuSharma0711/Python-Notes/blob/main/Pandas.ipynb\" target=\"_parent\"><img src=\"https://colab.research.google.com/assets/colab-badge.svg\" alt=\"Open In Colab\"/></a>"
      ]
    },
    {
      "cell_type": "markdown",
      "source": [
        "**Pandas:** Pandas is a python package providing fast, flexible and expressive data structures designed to make working with structured(tabular, multidimensional, potentially heterogeneous(different datatypes)) and time series data both easy and intuitive. It aims to be the fundamental high-level building block for doing practical, real world data analysis in python.\n",
        "\n",
        "  Pandas is designed to make it easier to work with structured data. Most of the analysis you might perform will likely to involve using tabular data, e.g. from .csv files or relational databases (eg. SQL). The DataFrame object in pandas is \"a two-dimensional tabular, column-oriented data structure with row and column labels.\"\n",
        "\n",
        "**Here are just a few things that pandas does well:**\n",
        "\n",
        "1.  Robust IO tools for loading data from flat files (CSV and delimited), Excel files, databases, and saving/loading\n",
        "    data from the ultrafast HDF5 format.\n",
        "\n",
        "2.  Easy handling of missing data (represented as NaN) is floating point as well as non-floating point data.\n",
        "\n",
        "3.  Size Mutability: columns can be inserted or deleted for dataframe and higher dimensional object.\n",
        "\n",
        "4.  Automatic and explicit data alignment: Objects can be explicitly aligned to set of labels, or the user can simply\n",
        "    ignore the labels and let series, DataFrames etc. automatically align the data for you in computations.\n",
        "\n",
        "5.  Powerful, flexible group by functionality to perform split-apply-combine operation on data sets, for both\n",
        "    aggregated and transforming data.\n",
        "\n",
        "6.  Make it easy to convert ragged, differently-indexed data in other python and Numpy data structures into DataFrame\n",
        "    objects.\n",
        "\n",
        "7.  Intelligent label-based slicing, fancy indexing and sub-setting of large data sets\n",
        "\n",
        "8.  Intutive merging and joining data sets.\n",
        "\n",
        "9.  Flexible shaping and pivoting data of data sets.\n",
        "\n",
        "10. Hierarchical labeling of axes (possible to have multiple labels per tick)\n",
        "\n",
        "11. Time series-specific functionality: date range generation and frequency conversion, moving window statistics, moving\n",
        "    window linear regressions, date shifting and lagging, etc."
      ],
      "metadata": {
        "id": "hrY8iVWFasOp"
      }
    },
    {
      "cell_type": "code",
      "source": [],
      "metadata": {
        "id": "52TF_4txbPz_"
      },
      "execution_count": null,
      "outputs": []
    }
  ]
}
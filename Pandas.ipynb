{
  "nbformat": 4,
  "nbformat_minor": 0,
  "metadata": {
    "colab": {
      "provenance": [],
      "authorship_tag": "ABX9TyNb5QLSRh2SLZemcd8foRzU",
      "include_colab_link": true
    },
    "kernelspec": {
      "name": "python3",
      "display_name": "Python 3"
    },
    "language_info": {
      "name": "python"
    }
  },
  "cells": [
    {
      "cell_type": "markdown",
      "metadata": {
        "id": "view-in-github",
        "colab_type": "text"
      },
      "source": [
        "<a href=\"https://colab.research.google.com/github/HimanshuSharma0711/Python-Notes/blob/main/Pandas.ipynb\" target=\"_parent\"><img src=\"https://colab.research.google.com/assets/colab-badge.svg\" alt=\"Open In Colab\"/></a>"
      ]
    },
    {
      "cell_type": "markdown",
      "source": [
        "**Pandas:** Pandas is a python package providing fast, flexible and expressive data structures designed to make working with structured(tabular, multidimensional, potentially heterogeneous(different datatypes)) and time series data both easy and intuitive. It aims to be the fundamental high-level building block for doing practical, real world data analysis in python.\n",
        "\n",
        "  Pandas is designed to make it easier to work with structured data. Most of the analysis you might perform will likely to involve using tabular data, e.g. from .csv files or relational databases (eg. SQL). The DataFrame object in pandas is \"a two-dimensional tabular, column-oriented data structure with row and column labels.\"\n",
        "\n",
        "**Here are just a few things that pandas does well:**\n",
        "\n",
        "1.  Robust IO tools for loading data from flat files (CSV and delimited), Excel files, databases, and saving/loading\n",
        "    data from the ultrafast HDF5 format.\n",
        "\n",
        "2.  Easy handling of missing data (represented as NaN) is floating point as well as non-floating point data.\n",
        "\n",
        "3.  Size Mutability: columns can be inserted or deleted for dataframe and higher dimensional object.\n",
        "\n",
        "4.  Automatic and explicit data alignment: Objects can be explicitly aligned to set of labels, or the user can simply\n",
        "    ignore the labels and let series, DataFrames etc. automatically align the data for you in computations.\n",
        "\n",
        "5.  Powerful, flexible group by functionality to perform split-apply-combine operation on data sets, for both\n",
        "    aggregated and transforming data.\n",
        "\n",
        "6.  Make it easy to convert ragged, differently-indexed data in other python and Numpy data structures into DataFrame\n",
        "    objects.\n",
        "\n",
        "7.  Intelligent label-based slicing, fancy indexing and sub-setting of large data sets\n",
        "\n",
        "8.  Intutive merging and joining data sets.\n",
        "\n",
        "9.  Flexible shaping and pivoting data of data sets.\n",
        "\n",
        "10. Hierarchical labeling of axes (possible to have multiple labels per tick)\n",
        "\n",
        "11. Time series-specific functionality: date range generation and frequency conversion, moving window statistics, moving\n",
        "    window linear regressions, date shifting and lagging, etc."
      ],
      "metadata": {
        "id": "hrY8iVWFasOp"
      }
    },
    {
      "cell_type": "code",
      "source": [
        "import pandas as pd\n",
        "import numpy as np\n",
        "\n",
        "print(pd.__version__)\n",
        "\n",
        "#First Series\n",
        "num_ser= pd.Series([2,3,4,5,6,7,8])\n",
        "print(num_ser)\n",
        "\n",
        "#Sameseries with different Indices\n",
        "num_ser= pd.Series([1,2,3,4,5,6,7,8],index=['a','b','c','d','e','f','g','h'],name='Number_Series')\n",
        "print(num_ser)\n",
        "print(num_ser[0])\n",
        "print(num_ser['a'])"
      ],
      "metadata": {
        "id": "52TF_4txbPz_",
        "outputId": "8bc60748-6946-4e17-a534-d7f000d23e82",
        "colab": {
          "base_uri": "https://localhost:8080/"
        }
      },
      "execution_count": 1,
      "outputs": [
        {
          "output_type": "stream",
          "name": "stdout",
          "text": [
            "1.5.3\n",
            "0    2\n",
            "1    3\n",
            "2    4\n",
            "3    5\n",
            "4    6\n",
            "5    7\n",
            "6    8\n",
            "dtype: int64\n",
            "a    1\n",
            "b    2\n",
            "c    3\n",
            "d    4\n",
            "e    5\n",
            "f    6\n",
            "g    7\n",
            "h    8\n",
            "Name: Number_Series, dtype: int64\n",
            "1\n",
            "1\n"
          ]
        }
      ]
    },
    {
      "cell_type": "code",
      "source": [
        "import pandas as pd\n",
        "import numpy as np\n",
        "\n",
        "#Creating Dataframe using 2D numpy Array\n",
        "array_2D = np.random.randint(20,100,(5,4))\n",
        "df = pd.DataFrame(array_2D,columns=('Aman','Sanjay','Ranu','Shushil'),index=('Maths','English','Hindi','Science','Sst'))\n",
        "print(df)\n"
      ],
      "metadata": {
        "id": "sI_pzwtab9Ye",
        "outputId": "2cb6cfe0-3ba8-4426-8e08-da5cce5dd9d6",
        "colab": {
          "base_uri": "https://localhost:8080/"
        }
      },
      "execution_count": 2,
      "outputs": [
        {
          "output_type": "stream",
          "name": "stdout",
          "text": [
            "         Aman  Sanjay  Ranu  Shushil\n",
            "Maths      77      57    33       69\n",
            "English    73      91    31       65\n",
            "Hindi      62      42    91       34\n",
            "Science    60      35    81       67\n",
            "Sst        81      76    83       39\n"
          ]
        }
      ]
    },
    {
      "cell_type": "code",
      "source": [
        "import pandas as pd\n",
        "import numpy as np\n",
        "\n",
        "#Using a conventional list of lists\n",
        "lst = [['Aman',16],['Sanjay',22],['Ranu',26],['Shushil', 32]]\n",
        "\n",
        "df = pd.DataFrame(lst,columns=['Name','Age'])\n",
        "print(df)\n"
      ],
      "metadata": {
        "id": "NpHwRoixcVJ0",
        "outputId": "9b3de0a5-4391-465b-9267-8b19488af175",
        "colab": {
          "base_uri": "https://localhost:8080/"
        }
      },
      "execution_count": 3,
      "outputs": [
        {
          "output_type": "stream",
          "name": "stdout",
          "text": [
            "      Name  Age\n",
            "0     Aman   16\n",
            "1   Sanjay   22\n",
            "2     Ranu   26\n",
            "3  Shushil   32\n"
          ]
        }
      ]
    },
    {
      "cell_type": "code",
      "source": [
        "import pandas as pd\n",
        "import numpy as np\n",
        "\n",
        "#Using a Dictionary\n",
        "emp_dic= {'Employee Name': ['Ravi','Ashish','Mohan','Akash'],'Salary':[18000,25000,22000,32000]}\n",
        "df = pd.DataFrame(emp_dic)\n",
        "print(df)\n"
      ],
      "metadata": {
        "id": "I-iPgzE0cXrs",
        "outputId": "2ab9025c-5322-4001-cbaf-b6b166a850bc",
        "colab": {
          "base_uri": "https://localhost:8080/"
        }
      },
      "execution_count": 4,
      "outputs": [
        {
          "output_type": "stream",
          "name": "stdout",
          "text": [
            "  Employee Name  Salary\n",
            "0          Ravi   18000\n",
            "1        Ashish   25000\n",
            "2         Mohan   22000\n",
            "3         Akash   32000\n"
          ]
        }
      ]
    },
    {
      "cell_type": "code",
      "source": [
        "import pandas as pd\n",
        "import numpy as np\n",
        "\n",
        "series_dict = {'First Series': pd.Series([10,20,30,40,50]),\n",
        "               'Second Series': pd.Series([60,70,80,90,100])}\n",
        "df = pd.DataFrame(series_dict)\n",
        "print(df)\n"
      ],
      "metadata": {
        "id": "AEO3RBcXcene",
        "outputId": "8bec4f60-3a58-481b-ab7a-16ed627c91f8",
        "colab": {
          "base_uri": "https://localhost:8080/"
        }
      },
      "execution_count": 5,
      "outputs": [
        {
          "output_type": "stream",
          "name": "stdout",
          "text": [
            "   First Series  Second Series\n",
            "0            10             60\n",
            "1            20             70\n",
            "2            30             80\n",
            "3            40             90\n",
            "4            50            100\n"
          ]
        }
      ]
    },
    {
      "cell_type": "code",
      "source": [
        "import pandas as pd\n",
        "import numpy as np\n",
        "\n",
        "# Using a list of Dictionaries\n",
        "lst_dic = [{'a':10, 'b':20,'c':30,'d':40},{'a':50, 'b':60,'c':70,'d':80}]\n",
        "df=pd.DataFrame(lst_dic)\n",
        "print(df)\n",
        "\n",
        "\n",
        "lst_dic2 = [{'a':10, 'b':20,'d':40},{'a':50,'c':70,'d':80}]\n",
        "df=pd.DataFrame(lst_dic2)\n",
        "print(df)"
      ],
      "metadata": {
        "id": "KBzu8sRlckFU",
        "outputId": "63c2c449-74d7-4759-b07c-f744cfb34e7d",
        "colab": {
          "base_uri": "https://localhost:8080/"
        }
      },
      "execution_count": 6,
      "outputs": [
        {
          "output_type": "stream",
          "name": "stdout",
          "text": [
            "    a   b   c   d\n",
            "0  10  20  30  40\n",
            "1  50  60  70  80\n",
            "    a     b   d     c\n",
            "0  10  20.0  40   NaN\n",
            "1  50   NaN  80  70.0\n"
          ]
        }
      ]
    },
    {
      "cell_type": "code",
      "source": [
        "import pandas as pd\n",
        "import numpy as np\n",
        "\n",
        "#Example 1 :\n",
        "lst1 = ['A','B','C','D']\n",
        "lst2  = [10,20,30,40]\n",
        "L1 = []\n",
        "L1.append(dict(zip(lst1,lst2)))\n",
        "\n",
        "df= pd.DataFrame(L1)\n",
        "print(df)\n",
        "\n",
        "#Example 2 :\n",
        "character = ['Ritik','Roshan','Hitesh','Roshini','Mansi']\n",
        "age = [32,42,24,30,28]\n",
        "\n",
        "lst_of_tuple = list(zip(character,age))\n",
        "df = pd.DataFrame(lst_of_tuple,columns=['Name','Age'])\n",
        "print(df)\n",
        "\n",
        "#Example 3 :\n",
        "np_array = np.random.randn(25,5)\n",
        "df1 = pd.DataFrame(np_array,columns=['a','b','c','d','e'])\n",
        "print(df1)\n",
        "\n"
      ],
      "metadata": {
        "id": "5BXOACxOcpDU",
        "outputId": "4bb93d49-678b-469d-892e-4f45d48bd93d",
        "colab": {
          "base_uri": "https://localhost:8080/"
        }
      },
      "execution_count": 8,
      "outputs": [
        {
          "output_type": "stream",
          "name": "stdout",
          "text": [
            "    A   B   C   D\n",
            "0  10  20  30  40\n",
            "      Name  Age\n",
            "0    Ritik   32\n",
            "1   Roshan   42\n",
            "2   Hitesh   24\n",
            "3  Roshini   30\n",
            "4    Mansi   28\n",
            "           a         b         c         d         e\n",
            "0  -0.369615 -1.033439 -0.129663  0.505958  1.070827\n",
            "1  -0.451269 -0.402573 -0.556781 -0.215117  0.518730\n",
            "2   0.713208  0.082397 -0.599600 -0.271221 -0.362115\n",
            "3  -0.839130  2.720827  0.957723  0.424684  1.781605\n",
            "4  -0.091315  0.096600 -0.715287 -0.972950  0.688881\n",
            "5  -0.847928 -0.652439  0.111612  0.871883 -0.123986\n",
            "6   0.017329 -2.073102  0.177729 -0.972991  0.001321\n",
            "7   0.825860  1.273057 -0.290330  0.328854 -0.018775\n",
            "8   0.670076  0.244511 -0.566769  0.334570 -0.433303\n",
            "9   0.797671  0.133677  1.009347  0.539309  0.318399\n",
            "10  0.349503  0.293460 -1.556179  0.674220 -2.107672\n",
            "11 -0.125539 -0.244252  1.157095  0.631141  1.399654\n",
            "12  1.066374  0.316044 -0.244142  1.086587  1.169632\n",
            "13 -1.496839  0.888386  1.124468 -0.341764 -0.321717\n",
            "14  2.719522 -0.005368 -2.394900 -0.095368  0.732616\n",
            "15 -0.852156 -2.376877  0.985319  0.486613  0.008473\n",
            "16 -0.591760 -0.104443 -0.611363  0.479011  2.439885\n",
            "17 -0.975618  0.285596 -0.132751 -0.898567  0.104359\n",
            "18  0.225722 -1.508587 -0.650215  0.690433 -0.505768\n",
            "19  1.132642  0.885722 -1.094813  1.871140  0.456462\n",
            "20 -1.913011  0.620859  0.370094  0.062938  0.122307\n",
            "21  0.537024 -0.408041  0.409231 -0.559848  0.927751\n",
            "22  0.182473  1.834143  0.686901 -0.148904 -0.920446\n",
            "23 -1.178379 -0.248459  0.335855 -0.557339  0.026574\n",
            "24  0.482221  0.587284 -2.022177 -1.622558  1.193195\n"
          ]
        }
      ]
    },
    {
      "cell_type": "code",
      "source": [
        "import pandas as pd\n",
        "import numpy as np\n",
        "\n",
        "np_array = np.random.randn(25,5)\n",
        "df1 = pd.DataFrame(np_array,columns=['a','b','c','d','e'])\n",
        "\n",
        "#dataframe.head() : it gives all columns and first n number of rows as desired from a dataframe.\n",
        "print(df1.head(10))\n"
      ],
      "metadata": {
        "id": "s6cd9Adgc5sM",
        "outputId": "e42724de-1757-43b2-bc40-4e3c53d62f37",
        "colab": {
          "base_uri": "https://localhost:8080/"
        }
      },
      "execution_count": 9,
      "outputs": [
        {
          "output_type": "stream",
          "name": "stdout",
          "text": [
            "          a         b         c         d         e\n",
            "0  0.181071 -0.912534 -0.949940  0.372621  0.650025\n",
            "1 -1.130835 -0.557386 -0.041261  1.127203  0.493054\n",
            "2 -0.603677 -1.013088 -0.038924  0.851229 -0.121431\n",
            "3  0.698317  0.898630 -0.503683  1.702410  1.544159\n",
            "4  1.153761  1.402523 -0.716280 -0.455350 -0.530291\n",
            "5 -0.065764 -0.181799  1.435296 -0.336526 -0.337215\n",
            "6  1.463793  1.405534  0.117907  0.019636 -2.036101\n",
            "7  1.225783  1.083134 -0.664777  0.205402  0.324807\n",
            "8 -1.335707  0.790671 -0.871352  0.356834  1.437900\n",
            "9 -0.902407 -1.398832  0.180494  1.598242 -1.648961\n"
          ]
        }
      ]
    },
    {
      "cell_type": "code",
      "source": [
        "import pandas as pd\n",
        "import numpy as np\n",
        "\n",
        "np_array = np.random.randn(25,5)\n",
        "df1 = pd.DataFrame(np_array,columns=['a','b','c','d','e'])\n",
        "\n",
        "#dataframe.tail() : it gives first five columns and last number of rows as desired from a dataframe.\n",
        "print(df1.tail(8))\n"
      ],
      "metadata": {
        "id": "vOsLQikLdEON",
        "outputId": "ace13f46-2bf2-4694-af2b-534f579e9233",
        "colab": {
          "base_uri": "https://localhost:8080/"
        }
      },
      "execution_count": 10,
      "outputs": [
        {
          "output_type": "stream",
          "name": "stdout",
          "text": [
            "           a         b         c         d         e\n",
            "17  1.550026 -0.036509 -0.447714 -0.335391 -1.023062\n",
            "18 -0.600780  0.535251  0.742426  0.474444 -1.042312\n",
            "19  0.876784  1.544068 -0.845623  0.009895 -0.507110\n",
            "20 -0.477300 -0.943388  1.560990 -0.100292 -1.156817\n",
            "21 -0.705674  2.156210 -0.473978  0.022073  1.642048\n",
            "22 -0.553205  0.640205 -0.886992 -0.159623  0.757007\n",
            "23 -0.931693 -1.500833 -0.122490 -0.782013  0.537215\n",
            "24  0.459485  0.686594  0.106624 -0.259798  1.590036\n"
          ]
        }
      ]
    },
    {
      "cell_type": "code",
      "source": [
        "import pandas as pd\n",
        "import numpy as np\n",
        "\n",
        "np_array = np.random.randn(25,5)\n",
        "df1 = pd.DataFrame(np_array,columns=['a','b','c','d','e'])\n",
        "\n",
        "#dataframe.columns : give you columns of a dataframe\n",
        "print(df1.columns)\n",
        "\n",
        "#dataframe.info()\n",
        "print(df1.info())\n"
      ],
      "metadata": {
        "id": "5K721wHgdGc8",
        "outputId": "60742d60-7c28-43f4-c3ed-1b32f704dd90",
        "colab": {
          "base_uri": "https://localhost:8080/"
        }
      },
      "execution_count": 11,
      "outputs": [
        {
          "output_type": "stream",
          "name": "stdout",
          "text": [
            "Index(['a', 'b', 'c', 'd', 'e'], dtype='object')\n",
            "<class 'pandas.core.frame.DataFrame'>\n",
            "RangeIndex: 25 entries, 0 to 24\n",
            "Data columns (total 5 columns):\n",
            " #   Column  Non-Null Count  Dtype  \n",
            "---  ------  --------------  -----  \n",
            " 0   a       25 non-null     float64\n",
            " 1   b       25 non-null     float64\n",
            " 2   c       25 non-null     float64\n",
            " 3   d       25 non-null     float64\n",
            " 4   e       25 non-null     float64\n",
            "dtypes: float64(5)\n",
            "memory usage: 1.1 KB\n",
            "None\n"
          ]
        }
      ]
    },
    {
      "cell_type": "code",
      "source": [
        "import pandas as pd\n",
        "import numpy as np\n",
        "\n",
        "#Renaming Columns\n",
        "Name = ['Ritik','Roshan','Hitesh','Roshini','Mansi']\n",
        "age = [32,42,24,30,28]\n",
        "\n",
        "lst_of_tuple = list(zip(Name,age))\n",
        "df = pd.DataFrame(lst_of_tuple,columns=['Name','Age'])\n",
        "print(df)\n",
        "df.rename(columns={'Name': 'Actor Name', 'Age': 'Actor Age'},inplace=True)\n",
        "print(df)"
      ],
      "metadata": {
        "id": "yj7MMGopdPK9",
        "outputId": "519b0dc9-fa68-411f-d12b-84f798c13e91",
        "colab": {
          "base_uri": "https://localhost:8080/"
        }
      },
      "execution_count": 12,
      "outputs": [
        {
          "output_type": "stream",
          "name": "stdout",
          "text": [
            "      Name  Age\n",
            "0    Ritik   32\n",
            "1   Roshan   42\n",
            "2   Hitesh   24\n",
            "3  Roshini   30\n",
            "4    Mansi   28\n",
            "  Actor Name  Actor Age\n",
            "0      Ritik         32\n",
            "1     Roshan         42\n",
            "2     Hitesh         24\n",
            "3    Roshini         30\n",
            "4      Mansi         28\n"
          ]
        }
      ]
    },
    {
      "cell_type": "code",
      "source": [
        "#df = pd.read_csv('file')\n",
        "#df.to_csv('file')"
      ],
      "metadata": {
        "id": "w_In7p-9b1s_"
      },
      "execution_count": null,
      "outputs": []
    }
  ]
}
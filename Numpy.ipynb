{
  "nbformat": 4,
  "nbformat_minor": 0,
  "metadata": {
    "colab": {
      "provenance": [],
      "authorship_tag": "ABX9TyPAuP5Qro3wW7qM1bj9AJ8C",
      "include_colab_link": true
    },
    "kernelspec": {
      "name": "python3",
      "display_name": "Python 3"
    },
    "language_info": {
      "name": "python"
    }
  },
  "cells": [
    {
      "cell_type": "markdown",
      "metadata": {
        "id": "view-in-github",
        "colab_type": "text"
      },
      "source": [
        "<a href=\"https://colab.research.google.com/github/HimanshuSharma0711/Python-Notes/blob/main/Numpy.ipynb\" target=\"_parent\"><img src=\"https://colab.research.google.com/assets/colab-badge.svg\" alt=\"Open In Colab\"/></a>"
      ]
    },
    {
      "cell_type": "markdown",
      "source": [
        "**Package:** A package is a container that contains various functions to perform specific tasks.For example, the math package includes the sqrt() function to perform the square root of a number. While working on big projects, we have to deal with a large amount of code, and writing everything together in the same file will make our code look messy. Instead, we can separate our code into multiple files by keeping the related code together in packages.Now, we can use the package whenever we need it in our projects. This way we can also reuse our code.\n",
        "\n",
        "**Module:** In Python, we can import modules from packages using the dot (.) operator. For Example: geopy.distance, here geopy is a package whereas .distance is module of package geopy.\n",
        "\n",
        "**Numpy:** Numpy is a package. A package is a collection of modules.\n",
        "\n",
        "**How to import a library?**\n",
        "\n",
        "**Syntax:** \n",
        "\n",
        "import numpy as np\n",
        "\n",
        "here, **import** is a keyword, **numpy** is the package or module to be imported. **'as np'** is an alias.\n",
        "\n",
        "The most important object defined in Numpy is an N-dimensional array type called ndarray. It describes the collection of items of the same type. Items in the collection can be accessed using a zero based index. Every item in an  darray takes the same size of block in the memory. Each elemment in ndarray is an object of data-type onject also called as d-type."
      ],
      "metadata": {
        "id": "z94zydjgKA6N"
      }
    },
    {
      "cell_type": "code",
      "source": [
        "import numpy as np\n",
        "\n",
        "#1.) One-Dimensional Array\n",
        "\n",
        "lst = [2,3,5,7,11]\n",
        "prime_array = np.array(lst)\n",
        "print(prime_array) #[ 2  3  5  7 11]\n",
        "print(type(prime_array)) #<class 'numpy.ndarray'>\n",
        "\n",
        "names=['Rohit','Hitesh','Ravi']\n",
        "names_array = np.array(names)\n",
        "print(names_array) #['Rohit' 'Hitesh' 'Ravi']\n",
        "print(type(names_array)) #<class 'numpy.ndarray'>\n",
        "print(names_array.shape) #(3,)\n",
        "\n",
        "#2.) Two - Dimensional Array\n",
        "\n",
        "two_array = [[2,3],[3,4]]\n",
        "TwoD_array = np.array(two_array)\n",
        "print(TwoD_array.shape) #(2,2)\n",
        "\n",
        "#3.) Three - Dimensional Array\n",
        "\n",
        "three_array = [[[2,3],[3,4]],\n",
        "               [[5,6],[7,8]]]\n",
        "ThreeD_array = np.array(three_array)\n",
        "print(ThreeD_array.shape) #(2,2,2)\n",
        "\n",
        "#4.) Four - Dimensional Array\n",
        "\n",
        "four_array = [\n",
        "              [\n",
        "               [[2,3],[3,4]],\n",
        "               [[5,6],[7,8]]\n",
        "                             ],\n",
        "               [\n",
        "                [[2,3],[3,4]],\n",
        "                [[5,6],[7,8]]\n",
        "                             ]\n",
        "                              ]\n",
        "FourD_array = np.array(four_array)\n",
        "print(FourD_array.shape) #(2,2,2,2)"
      ],
      "metadata": {
        "colab": {
          "base_uri": "https://localhost:8080/"
        },
        "id": "74T6toTUK7XK",
        "outputId": "7f1abbd6-c704-4d89-f233-e80288af9335"
      },
      "execution_count": 1,
      "outputs": [
        {
          "output_type": "stream",
          "name": "stdout",
          "text": [
            "[ 2  3  5  7 11]\n",
            "<class 'numpy.ndarray'>\n",
            "['Rohit' 'Hitesh' 'Ravi']\n",
            "<class 'numpy.ndarray'>\n",
            "(3,)\n",
            "(2, 2)\n",
            "(2, 2, 2)\n",
            "(2, 2, 2, 2)\n"
          ]
        }
      ]
    },
    {
      "cell_type": "markdown",
      "source": [
        "**Array Inspection**\n",
        "\n",
        "A numpy array has following attributes\n",
        "1. ndarray.shape : This returns a tuple consisting of array dimensions and can be used to resized the array.\n",
        "2. ndarray.ndim : Return number of dimension in an array.\n",
        "3. ndarray.size : return total number of elements in array.\n",
        "4. ndarray.dtype : return the datatype of an array.\n",
        "5. ndarray.astype : changes datatype of an array."
      ],
      "metadata": {
        "id": "aHjpG5r_LBlI"
      }
    },
    {
      "cell_type": "code",
      "source": [
        "my_array1 = np.array([[2,3],[3,4]])\n",
        "print(my_array1.shape)\n",
        "print(my_array1.ndim)\n",
        "print(my_array1.size)\n",
        "print(my_array1.dtype)\n",
        "print(my_array1.astype(float))\n",
        "print(my_array1.astype(str))\n",
        "\n",
        "my_array2=np.array([1,2.0,3,4,'abc'])\n",
        "print(my_array2.dtype) #U32 - Numpy Support some more datatypes."
      ],
      "metadata": {
        "id": "fitqwOBVLNei"
      },
      "execution_count": null,
      "outputs": []
    },
    {
      "cell_type": "markdown",
      "source": [
        "**Why Numpy?**\n",
        "\n",
        "**Memory :** Numpy Data Structures takes up less space.\n",
        "\n",
        "**Performance :** they have a need for speed and faster than lists.\n",
        "\n",
        "**Functionality :** Scipy and Numpy have optimized functions such as linear algebra built in."
      ],
      "metadata": {
        "id": "Az5C6NYtLUNd"
      }
    },
    {
      "cell_type": "code",
      "source": [
        "#Memory\n",
        "import sys\n",
        "\n",
        "s = [0,1,2,3,4,5,6,7,8,9]\n",
        "print(\"Size of each element in this list in bytes is : \", sys.getsizeof(s))\n",
        "print(\"Size of whole list in bytes : \", sys.getsizeof(s)*len(s))\n",
        "\n",
        "d = np.array([0,1,2,3,4,5,6,7,8,9])\n",
        "print(\"Size of each element in this array in bytes is : \", d.itemsize)\n",
        "print(\"Size of whole array in bytes : \", d.size*d.itemsize)\n",
        "\n",
        "#Performance\n",
        "import time\n",
        "\n",
        "size = 100000\n",
        "list1 = range(size)\n",
        "list2 = range(size)\n",
        "\n",
        "array1 = np.arange(size)\n",
        "array2= np.arange(size)\n",
        "\n",
        "initialTime = time.time()\n",
        "\n",
        "resultantList = [(a*b) for a,b in zip(list1,list2)]\n",
        "print(\"time taken by list action : \", time.time() - initialTime)\n",
        "\n",
        "initialTime = time.time()\n",
        "\n",
        "resultantarray = array1 * array2\n",
        "\n",
        "print(\"time taken by array action : \", time.time() - initialTime)"
      ],
      "metadata": {
        "colab": {
          "base_uri": "https://localhost:8080/"
        },
        "id": "MbOmAHYkLewA",
        "outputId": "33ee2fad-7ec3-4cf0-c492-b17a7b5ff40e"
      },
      "execution_count": 2,
      "outputs": [
        {
          "output_type": "stream",
          "name": "stdout",
          "text": [
            "Size of each element in this list in bytes is :  152\n",
            "Size of whole list in bytes :  1520\n",
            "Size of each element in this array in bytes is :  8\n",
            "Size of whole array in bytes :  80\n",
            "time taken by list action :  0.010141372680664062\n",
            "time taken by array action :  0.0007815361022949219\n"
          ]
        }
      ]
    },
    {
      "cell_type": "markdown",
      "source": [
        "# **Different ways of creating an ndarray**\n",
        "\n",
        "**Uninitialized : creating an uninitialized array of a specified shape**"
      ],
      "metadata": {
        "id": "hn4Cq69HLn-o"
      }
    },
    {
      "cell_type": "code",
      "source": [
        "uninitialized_array = np.empty([3,3],dtype=int)\n",
        "print(uninitialized_array)\n"
      ],
      "metadata": {
        "colab": {
          "base_uri": "https://localhost:8080/"
        },
        "id": "Ce92o8ZkLxHw",
        "outputId": "6c6d18f3-cad8-4388-92a2-2deab91dba92"
      },
      "execution_count": 4,
      "outputs": [
        {
          "output_type": "stream",
          "name": "stdout",
          "text": [
            "[[           29780448                   0     140564667954944]\n",
            " [ 268492805317157264     140564200478064     140564667955088]\n",
            " [5663975637200811794     140564198533680                  80]]\n"
          ]
        }
      ]
    },
    {
      "cell_type": "markdown",
      "source": [
        "**Initialized : with zeros**"
      ],
      "metadata": {
        "id": "78cl4-kuL5jY"
      }
    },
    {
      "cell_type": "code",
      "source": [
        "initialized_zero = np.zeros([3,3],dtype=int)\n",
        "print(initialized_zero)\n",
        "\n",
        "initialized_ones = np.ones([3,3],dtype=int)\n",
        "print(initialized_ones)"
      ],
      "metadata": {
        "colab": {
          "base_uri": "https://localhost:8080/"
        },
        "id": "v0izsW5UMBL5",
        "outputId": "111cb19a-3862-483f-d784-2ea4a7320196"
      },
      "execution_count": 5,
      "outputs": [
        {
          "output_type": "stream",
          "name": "stdout",
          "text": [
            "[[0 0 0]\n",
            " [0 0 0]\n",
            " [0 0 0]]\n",
            "[[1 1 1]\n",
            " [1 1 1]\n",
            " [1 1 1]]\n"
          ]
        }
      ]
    },
    {
      "cell_type": "markdown",
      "source": [
        "**Array from numerial ranges**\n",
        "\n",
        "**Parameters :** np.arange(start, stop, step, dtype)\n"
      ],
      "metadata": {
        "id": "0qP1tao7M1On"
      }
    },
    {
      "cell_type": "code",
      "source": [
        "range_array1= np.arange(1,20,2,float)\n",
        "print(range_array1)\n",
        "\n",
        "range_array2 = np.arange(10)\n",
        "print(range_array2)"
      ],
      "metadata": {
        "colab": {
          "base_uri": "https://localhost:8080/"
        },
        "id": "lqTMmEtAM7Av",
        "outputId": "7b2ecbdf-4bd3-46de-da7f-48c637603240"
      },
      "execution_count": 7,
      "outputs": [
        {
          "output_type": "stream",
          "name": "stdout",
          "text": [
            "[ 1.  3.  5.  7.  9. 11. 13. 15. 17. 19.]\n",
            "[0 1 2 3 4 5 6 7 8 9]\n"
          ]
        }
      ]
    },
    {
      "cell_type": "markdown",
      "source": [
        "**array full of desired value**"
      ],
      "metadata": {
        "id": "RIXeTI4jM9w3"
      }
    },
    {
      "cell_type": "code",
      "source": [
        "print(np.full([2,2],12))"
      ],
      "metadata": {
        "colab": {
          "base_uri": "https://localhost:8080/"
        },
        "id": "_U8kGO-eNB9y",
        "outputId": "ea56ae10-d4b5-4e31-d6fd-63af7ef4d0c0"
      },
      "execution_count": 8,
      "outputs": [
        {
          "output_type": "stream",
          "name": "stdout",
          "text": [
            "[[12 12]\n",
            " [12 12]]\n"
          ]
        }
      ]
    },
    {
      "cell_type": "markdown",
      "source": [
        "**random array**"
      ],
      "metadata": {
        "id": "k_rtGM7uNID-"
      }
    },
    {
      "cell_type": "code",
      "source": [
        "print(np.random.random([2,2]))"
      ],
      "metadata": {
        "colab": {
          "base_uri": "https://localhost:8080/"
        },
        "id": "uHPqO-LANOTv",
        "outputId": "91c1b6dd-a736-4984-8f60-2e99e68b971c"
      },
      "execution_count": 9,
      "outputs": [
        {
          "output_type": "stream",
          "name": "stdout",
          "text": [
            "[[0.18640158 0.88304443]\n",
            " [0.41017194 0.81050929]]\n"
          ]
        }
      ]
    },
    {
      "cell_type": "markdown",
      "source": [
        "**random with range in interger**\n",
        "\n",
        "**Parameter:** np.random.randint(start,end,[size])"
      ],
      "metadata": {
        "id": "HVT5RgkDNPpv"
      }
    },
    {
      "cell_type": "code",
      "source": [
        "print(np.random.randint(1,10,[3,3]))"
      ],
      "metadata": {
        "colab": {
          "base_uri": "https://localhost:8080/"
        },
        "id": "iT8IQZ5FNUnA",
        "outputId": "72827e54-f125-4b4f-8d1f-801d153a652e"
      },
      "execution_count": 10,
      "outputs": [
        {
          "output_type": "stream",
          "name": "stdout",
          "text": [
            "[[7 8 9]\n",
            " [8 4 4]\n",
            " [1 3 2]]\n"
          ]
        }
      ]
    },
    {
      "cell_type": "markdown",
      "source": [
        "**multiplying the array**"
      ],
      "metadata": {
        "id": "jZfCdeiKNZCW"
      }
    },
    {
      "cell_type": "code",
      "source": [
        "print(np.ones([3,3],dtype=int)*101)"
      ],
      "metadata": {
        "colab": {
          "base_uri": "https://localhost:8080/"
        },
        "id": "Ss3sK-GlNcN3",
        "outputId": "be628f75-8b52-4b51-f891-45bcd643b06e"
      },
      "execution_count": 11,
      "outputs": [
        {
          "output_type": "stream",
          "name": "stdout",
          "text": [
            "[[101 101 101]\n",
            " [101 101 101]\n",
            " [101 101 101]]\n"
          ]
        }
      ]
    },
    {
      "cell_type": "markdown",
      "source": [
        "**Identity Array**"
      ],
      "metadata": {
        "id": "4XxUErnINffC"
      }
    },
    {
      "cell_type": "code",
      "source": [
        "print(np.identity(3,dtype=int))"
      ],
      "metadata": {
        "colab": {
          "base_uri": "https://localhost:8080/"
        },
        "id": "1J4hHWVbNiLx",
        "outputId": "09fba7d7-1b37-4f1f-d5c4-3154be78f945"
      },
      "execution_count": 12,
      "outputs": [
        {
          "output_type": "stream",
          "name": "stdout",
          "text": [
            "[[1 0 0]\n",
            " [0 1 0]\n",
            " [0 0 1]]\n"
          ]
        }
      ]
    },
    {
      "cell_type": "markdown",
      "source": [
        "**Creating Ndarray with existing data**"
      ],
      "metadata": {
        "id": "j9-462FPNkjY"
      }
    },
    {
      "cell_type": "code",
      "source": [
        "#List to ndarray\n",
        "\n",
        "lst=[1,2,3,4,5]\n",
        "lstarray = np.asarray(lst)\n",
        "print(lstarray)\n",
        "\n",
        "#Tuple to ndarray\n",
        "\n",
        "tpl = (1,2,3,4,5)\n",
        "tplarray = np.asarray(tpl)\n",
        "print(tplarray)"
      ],
      "metadata": {
        "colab": {
          "base_uri": "https://localhost:8080/"
        },
        "id": "pswfdqwHNpyv",
        "outputId": "7e6d1d79-03e5-49c8-b133-a7e7a6657356"
      },
      "execution_count": 13,
      "outputs": [
        {
          "output_type": "stream",
          "name": "stdout",
          "text": [
            "[1 2 3 4 5]\n",
            "[1 2 3 4 5]\n"
          ]
        }
      ]
    },
    {
      "cell_type": "markdown",
      "source": [
        "**Indexing and Slicing array**\n",
        "\n",
        "**[start:end]** used to slice array with a gap\n",
        "\n",
        "**[start:end:step]** used to slice array with fixed interval"
      ],
      "metadata": {
        "id": "y1MDW9UGNzNX"
      }
    },
    {
      "cell_type": "code",
      "source": [
        "#Slicing 1D array\n",
        "D1 = np.array([0,1,2,3,4,5,6,7,8,9])\n",
        "print(D1[2:5]) #[2 3 4]\n",
        "print(D1[2:9:2]) #[2 4 6 8]\n",
        "\n",
        "#Slicing 2D array\n",
        "\n",
        "L = [[1,2,3,4,5],[6,7,8,9,10]]\n",
        "D2 = np.array(L)\n",
        "\n",
        "print(D2[0][:3])\n",
        "print(D2[1][0:4:2])\n",
        "\n",
        "#Number of [] increases in accordance with dimension"
      ],
      "metadata": {
        "colab": {
          "base_uri": "https://localhost:8080/",
          "height": 122
        },
        "id": "yjFWdyPvKCNb",
        "outputId": "05076384-a81b-4818-fede-54de88528c40"
      },
      "execution_count": 15,
      "outputs": [
        {
          "output_type": "stream",
          "name": "stdout",
          "text": [
            "[2 3 4]\n",
            "[2 4 6 8]\n",
            "[1 2 3]\n",
            "[6 8]\n"
          ]
        },
        {
          "output_type": "execute_result",
          "data": {
            "text/plain": [
              "'\\nArray Manipulation\\nnp.transpose(array) - to transpose array\\nnp.reshape(array,shape) - to change shape of an array\\nnp.resize(array,shape) - to return new array with shape\\nnp.flatten(array) - to flatten the array\\n'"
            ],
            "application/vnd.google.colaboratory.intrinsic+json": {
              "type": "string"
            }
          },
          "metadata": {},
          "execution_count": 15
        }
      ]
    },
    {
      "cell_type": "markdown",
      "source": [
        "# **Array Manipulation**\n",
        "\n",
        "**np.transpose(array)** - to transpose array\n",
        "\n",
        "**np.reshape(array,shape)** - to change shape of an array\n",
        "\n",
        "**np.resize(array,shape)** - to return new array with shape\n",
        "\n",
        "**np.flatten(array)** - to flatten the array"
      ],
      "metadata": {
        "id": "0qOfG3evOvc_"
      }
    },
    {
      "cell_type": "code",
      "source": [],
      "metadata": {
        "id": "bLX4ysBpO34_"
      },
      "execution_count": null,
      "outputs": []
    }
  ]
}
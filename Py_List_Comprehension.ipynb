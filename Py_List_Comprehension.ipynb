{
  "nbformat": 4,
  "nbformat_minor": 0,
  "metadata": {
    "colab": {
      "provenance": [],
      "authorship_tag": "ABX9TyNv/kr9x8zMe55NyYiFwUJf",
      "include_colab_link": true
    },
    "kernelspec": {
      "name": "python3",
      "display_name": "Python 3"
    },
    "language_info": {
      "name": "python"
    }
  },
  "cells": [
    {
      "cell_type": "markdown",
      "metadata": {
        "id": "view-in-github",
        "colab_type": "text"
      },
      "source": [
        "<a href=\"https://colab.research.google.com/github/HimanshuSharma0711/Python-Notes/blob/main/Py_List_Comprehension.ipynb\" target=\"_parent\"><img src=\"https://colab.research.google.com/assets/colab-badge.svg\" alt=\"Open In Colab\"/></a>"
      ]
    },
    {
      "cell_type": "markdown",
      "source": [
        "#**List Comprehension**\n",
        "List comprehension is method of creating a list with a shorter syntax from the values of an existing list.\n",
        "* List comprehension uses loops ('For loop or 'while loop) and condional statements(if-elif-else)."
      ],
      "metadata": {
        "id": "FMcPoHyJ2DvN"
      }
    },
    {
      "cell_type": "code",
      "source": [
        "#Normal Method of Creating a list\n",
        "NumList = [1,2,4,6,11,14,17,20,23,29,30]\n",
        "\n",
        "sqNum = []\n",
        "for i in NumList:\n",
        "  sqNum.append(i**2)\n",
        "print(sqNum)\n",
        "\n",
        "#Creating List via List Comprehension\n",
        "\n",
        "sqNum=[i**2 for i in NumList]\n",
        "print(sqNum)"
      ],
      "metadata": {
        "colab": {
          "base_uri": "https://localhost:8080/"
        },
        "id": "gtnlAU_J2_0N",
        "outputId": "c1db93e1-a4a7-4f63-81c6-6728feaed47d"
      },
      "execution_count": 3,
      "outputs": [
        {
          "output_type": "stream",
          "name": "stdout",
          "text": [
            "[1, 4, 16, 36, 121, 196, 289, 400, 529, 841, 900]\n",
            "[1, 4, 16, 36, 121, 196, 289, 400, 529, 841, 900]\n"
          ]
        }
      ]
    },
    {
      "cell_type": "markdown",
      "source": [
        "#**Syntax of conditional list comprehension**\n",
        "\n",
        "1. if there is only 'if' statement\n",
        "\n",
        "    list comprehension = [operation + loop + if condition]\n",
        "\n",
        "2. if there is 'if statement' with 'else statement'\n",
        "\n",
        "    list comprehension = [operation + if statement+ else + else operation+ Loop]\n",
        "\n",
        "3. When there are multiple conditions\n",
        "\n",
        "    list comprehension = [operation + if statement + else + elif operation + if(2nd condition) + else + else operation + Loop]"
      ],
      "metadata": {
        "id": "It_Z2d54-BZD"
      }
    },
    {
      "cell_type": "markdown",
      "source": [
        "#**Only if - Statement**"
      ],
      "metadata": {
        "id": "s4nwuy-U-LY7"
      }
    },
    {
      "cell_type": "code",
      "source": [
        "#Condition : Square only even number\n",
        "\n",
        "#Normal Method\n",
        "NumList = [1,2,4,6,11,14,17,20,23,29,30]\n",
        "sqNum = []\n",
        "\n",
        "for i in NumList:\n",
        "  if i%2 ==0:\n",
        "    sqNum.append(i**2)\n",
        "print(sqNum)\n",
        "\n",
        "#by List Comprehension\n",
        "sqNum=[i**2 for i in NumList if i%2 == 0]\n",
        "print(sqNum)\n",
        "\n",
        "#Condition : Square only odd number\n",
        "\n",
        "#Normal Method\n",
        "NumList = [1,2,4,6,11,14,17,20,23,29,30]\n",
        "sqNum = []\n",
        "\n",
        "for i in NumList:\n",
        "  if i%2 !=0:\n",
        "    sqNum.append(i**2)\n",
        "print(sqNum)\n",
        "\n",
        "#by List Comprehension\n",
        "sqNum=[i**2 for i in NumList if i%2 != 0]\n",
        "print(sqNum)\n"
      ],
      "metadata": {
        "colab": {
          "base_uri": "https://localhost:8080/"
        },
        "id": "2XWS1Xlb451V",
        "outputId": "77e6eb2e-4036-4d75-f431-1a0b0845c3b8"
      },
      "execution_count": 6,
      "outputs": [
        {
          "output_type": "stream",
          "name": "stdout",
          "text": [
            "[4, 16, 36, 196, 400, 900]\n",
            "[4, 16, 36, 196, 400, 900]\n",
            "[1, 121, 289, 529, 841]\n",
            "[1, 121, 289, 529, 841]\n"
          ]
        }
      ]
    },
    {
      "cell_type": "markdown",
      "source": [
        "#**If statement with else statement**"
      ],
      "metadata": {
        "id": "ys1Be-H56yuV"
      }
    },
    {
      "cell_type": "code",
      "source": [
        "#Condition: Square if numbers are even, 3 times if numbers are odd\n",
        "\n",
        "#Normal Method\n",
        "NumList = [1,2,4,6,11,14,17,20,23,29,30]\n",
        "num = []\n",
        "\n",
        "for i in NumList:\n",
        "  if i%2 ==0:\n",
        "    num.append(i**2)\n",
        "  else:\n",
        "    num.append(i*3)\n",
        "print(num)\n",
        "\n",
        "#by List Comprehension\n",
        "num=[i**2 if i%2 == 0 else i*3 for i in NumList]\n",
        "print(num)\n",
        "\n"
      ],
      "metadata": {
        "colab": {
          "base_uri": "https://localhost:8080/"
        },
        "id": "e1ENQ5Ub-cpD",
        "outputId": "e6070096-436c-4e31-8919-4f5051a4e7fa"
      },
      "execution_count": 7,
      "outputs": [
        {
          "output_type": "stream",
          "name": "stdout",
          "text": [
            "[3, 4, 16, 36, 33, 196, 51, 400, 69, 87, 900]\n",
            "[3, 4, 16, 36, 33, 196, 51, 400, 69, 87, 900]\n"
          ]
        }
      ]
    },
    {
      "cell_type": "markdown",
      "source": [
        "#**Multiple conditions**"
      ],
      "metadata": {
        "id": "ZceNKBAUASki"
      }
    },
    {
      "cell_type": "code",
      "source": [
        "#Condition: if num is divisible by 2 print 2, if number is divisible by 3 print 3, else print the number \n",
        "\n",
        "#Normal Method\n",
        "NumList = [1,2,4,6,11,14,17,20,23,29,30]\n",
        "num = []\n",
        "\n",
        "for i in NumList:\n",
        "  if i%2 ==0:\n",
        "    num.append(2)\n",
        "  elif i%3 == 0:\n",
        "    num.append(3)\n",
        "  else:\n",
        "    num.append(i)\n",
        "print(num)\n",
        "\n",
        "#by List Comprehension\n",
        "num=[2 if i%2==0 else 3 if i%3==0 else i for i in NumList]\n",
        "print(num)\n"
      ],
      "metadata": {
        "colab": {
          "base_uri": "https://localhost:8080/"
        },
        "id": "XBRqUxSxAcXs",
        "outputId": "abbd7eb3-6f53-4708-ced1-025dacf6856c"
      },
      "execution_count": 8,
      "outputs": [
        {
          "output_type": "stream",
          "name": "stdout",
          "text": [
            "[1, 2, 2, 2, 11, 2, 17, 2, 23, 29, 2]\n",
            "[1, 2, 2, 2, 11, 2, 17, 2, 23, 29, 2]\n"
          ]
        }
      ]
    },
    {
      "cell_type": "markdown",
      "source": [
        "#**Nested List Comprehension**\n",
        "\n"
      ],
      "metadata": {
        "id": "gckDI7V3CuMd"
      }
    },
    {
      "cell_type": "code",
      "source": [],
      "metadata": {
        "id": "IEaEMhXyDAiC"
      },
      "execution_count": null,
      "outputs": []
    }
  ]
}
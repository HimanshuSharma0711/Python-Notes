{
  "nbformat": 4,
  "nbformat_minor": 0,
  "metadata": {
    "colab": {
      "provenance": [],
      "authorship_tag": "ABX9TyPZP3whTNh1NlhEZWFd8x+F",
      "include_colab_link": true
    },
    "kernelspec": {
      "name": "python3",
      "display_name": "Python 3"
    },
    "language_info": {
      "name": "python"
    }
  },
  "cells": [
    {
      "cell_type": "markdown",
      "metadata": {
        "id": "view-in-github",
        "colab_type": "text"
      },
      "source": [
        "<a href=\"https://colab.research.google.com/github/HimanshuSharma0711/Python-Notes/blob/main/Py_Adv_DT.ipynb\" target=\"_parent\"><img src=\"https://colab.research.google.com/assets/colab-badge.svg\" alt=\"Open In Colab\"/></a>"
      ]
    },
    {
      "cell_type": "markdown",
      "source": [
        "#**1. Lists**\n",
        "\n",
        "* Collection of different datatypes i.e. basic and advance\n",
        "* It has sequence of items\n",
        "* Lists are mutable \n",
        "* Lists are defined in [] square brackets\n",
        "* Ex. my_list = [1,2,a,b,2.5,[5,4],True]\n",
        "\n",
        "#**Basic List Functions**\n",
        "\n",
        "* len() : Gives length of the list.\n",
        "* type() : Gives the type of the list\n",
        "* min() : Give minimum Value for the list of similar kind\n",
        "* max() : Give Maximum Value for the list of similar kind\n",
        "* print() : Print function\n",
        "* sorted() : Sorts list in ascending or decending order"
      ],
      "metadata": {
        "id": "wJ7kLvMmyyug"
      }
    },
    {
      "cell_type": "code",
      "source": [
        "# List Functions\n",
        "my_list1 = ['a','b','c','d','e',1,2,3,4,5,[1.2,2.5]]\n",
        "print('list:',my_list1)\n",
        "\n",
        "print('Length of List:',len(my_list1))\n",
        "print('Type:',type(my_list1))\n",
        "print('Item Type: ',type(my_list1[4]))\n",
        "print('Item Type: ',type(my_list1[10]))\n",
        "print('Item Type: ',type(my_list1[10][1]))\n",
        "\n",
        "my_list2=[10,45,12,74,45,36,15]\n",
        "print('List2:',my_list2)\n",
        "\n",
        "print('Min:',min(my_list2))\n",
        "print('Max:',max(my_list2))\n",
        "print('Sorted ascending:',sorted(my_list2))\n",
        "print('Sorted Decending:',sorted(my_list2,reverse=True))"
      ],
      "metadata": {
        "colab": {
          "base_uri": "https://localhost:8080/"
        },
        "id": "8iaGguGiy1qG",
        "outputId": "fb77e6ec-e67c-45bd-b00a-f0913c5abf77"
      },
      "execution_count": 1,
      "outputs": [
        {
          "output_type": "stream",
          "name": "stdout",
          "text": [
            "list: ['a', 'b', 'c', 'd', 'e', 1, 2, 3, 4, 5, [1.2, 2.5]]\n",
            "Length of List: 11\n",
            "Type: <class 'list'>\n",
            "Item Type:  <class 'str'>\n",
            "Item Type:  <class 'list'>\n",
            "Item Type:  <class 'float'>\n",
            "List2: [10, 45, 12, 74, 45, 36, 15]\n",
            "Min: 10\n",
            "Max: 74\n",
            "Sorted ascending: [10, 12, 15, 36, 45, 45, 74]\n",
            "Sorted Decending: [74, 45, 45, 36, 15, 12, 10]\n"
          ]
        }
      ]
    },
    {
      "cell_type": "code",
      "source": [
        "# List Functions\n",
        "my_list1 = ['a','b','c','d','e',1,2,3,4,5,[1.2,2.5]]\n",
        "print('list:',my_list1)\n",
        "\n",
        "print('Length of List:',len(my_list1))\n",
        "print('Type:',type(my_list1))\n",
        "print('Item Type: ',type(my_list1[4]))\n",
        "print('Item Type: ',type(my_list1[10]))\n",
        "print('Item Type: ',type(my_list1[10][1]))\n",
        "\n",
        "my_list2=[10,45,12,74,45,36,15]\n",
        "print('List2:',my_list2)\n",
        "\n",
        "print('Min:',min(my_list2))\n",
        "print('Max:',max(my_list2))\n",
        "print('Sorted ascending:',sorted(my_list2))\n",
        "print('Sorted Decending:',sorted(my_list2,reverse=True))"
      ],
      "metadata": {
        "colab": {
          "base_uri": "https://localhost:8080/"
        },
        "id": "DQMJ5mJpzAmU",
        "outputId": "5339b24d-29a5-4c26-883d-19e2e9bdde4d"
      },
      "execution_count": 2,
      "outputs": [
        {
          "output_type": "stream",
          "name": "stdout",
          "text": [
            "list: ['a', 'b', 'c', 'd', 'e', 1, 2, 3, 4, 5, [1.2, 2.5]]\n",
            "Length of List: 11\n",
            "Type: <class 'list'>\n",
            "Item Type:  <class 'str'>\n",
            "Item Type:  <class 'list'>\n",
            "Item Type:  <class 'float'>\n",
            "List2: [10, 45, 12, 74, 45, 36, 15]\n",
            "Min: 10\n",
            "Max: 74\n",
            "Sorted ascending: [10, 12, 15, 36, 45, 45, 74]\n",
            "Sorted Decending: [74, 45, 45, 36, 15, 12, 10]\n"
          ]
        }
      ]
    }
  ]
}
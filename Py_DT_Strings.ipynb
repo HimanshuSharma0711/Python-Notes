{
  "nbformat": 4,
  "nbformat_minor": 0,
  "metadata": {
    "colab": {
      "provenance": [],
      "authorship_tag": "ABX9TyMxbqGUENqrfKG5TGdRr5Zh",
      "include_colab_link": true
    },
    "kernelspec": {
      "name": "python3",
      "display_name": "Python 3"
    },
    "language_info": {
      "name": "python"
    }
  },
  "cells": [
    {
      "cell_type": "markdown",
      "metadata": {
        "id": "view-in-github",
        "colab_type": "text"
      },
      "source": [
        "<a href=\"https://colab.research.google.com/github/HimanshuSharma0711/Python-Notes/blob/main/Py_DT_Strings.ipynb\" target=\"_parent\"><img src=\"https://colab.research.google.com/assets/colab-badge.svg\" alt=\"Open In Colab\"/></a>"
      ]
    },
    {
      "cell_type": "markdown",
      "source": [
        "# **Introduction To String**\n",
        "\n",
        "\n",
        "*   ' ' Single Quotes\n",
        "*   \" \" Double Quotes\n",
        "*   ''' ''' Triple Quotes\n",
        "(Any data in quotes is called a string)\n",
        "\n",
        "*   \"This is a String\" : all are characters (including space) for Python\n",
        "*   Use Double Quotes(\" \") to use single quotes(' ') in string.\n",
        "*   Use Triple Quotes(''' ''') to use double quotes(\" \") in string.(Generally use to write paragraph.\n",
        "\n",
        "** Escape Sequence Characters** : these are some special characters, which are used as commands either they are in the string or outside.\n",
        "\n",
        "Ex.\n",
        "*  \\n : use to print next line\n",
        "*  \\t : use to print tab space\n",
        "*  \\' : Single Quote\n",
        "*  \\\\ : Backslash"
      ],
      "metadata": {
        "id": "ssrtVqH9xbV4"
      }
    },
    {
      "cell_type": "code",
      "source": [
        "#Concatenate String: Joinging two or more Strings\n",
        "\n",
        "string1 = \"Hello\"\n",
        "string2 = \"World\"\n",
        "print(string1+string2)\n",
        "\n",
        "print (string1*3)"
      ],
      "metadata": {
        "colab": {
          "base_uri": "https://localhost:8080/"
        },
        "id": "y13lrvJ1xeb1",
        "outputId": "2fc6ed93-e66c-4b6b-fc29-bd76870b1ffd"
      },
      "execution_count": 1,
      "outputs": [
        {
          "output_type": "stream",
          "name": "stdout",
          "text": [
            "HelloWorld\n",
            "HelloHelloHello\n"
          ]
        }
      ]
    },
    {
      "cell_type": "markdown",
      "source": [
        "#**String Function & Methods**"
      ],
      "metadata": {
        "id": "jh4SEVGuxp0P"
      }
    },
    {
      "cell_type": "code",
      "source": [
        "#Funtions\n",
        "stringx = \"aAabBbcCcdDdeEefFfgGghHh\"\n",
        "\n",
        "print(len(stringx))\n",
        "print(stringx)\n",
        "\n",
        "#Methods\n",
        "print(stringx.lower())\n",
        "print(stringx.upper())\n",
        "print(stringx.count('b'))\n",
        "print(stringx.find('e'))\n",
        "print(stringx.find('z')) # an item that doesn't exist in string\n",
        "print(stringx.find('de'))\n",
        "print(stringx.replace(\"c\",\"j\")) #replace function is case sensitive\n",
        "\n",
        "#Search 'in' : This method is use for to check whether a particular term is present in the string or not. It return a boolean\n",
        "stringy = \"this market is full of fruits.\"\n",
        "print('fruits' in stringy)\n",
        "print('vegetables' in stringy)"
      ],
      "metadata": {
        "colab": {
          "base_uri": "https://localhost:8080/"
        },
        "id": "2bltexigxsOt",
        "outputId": "04e9bfde-cafa-4006-f8d8-f3783a7444d5"
      },
      "execution_count": 2,
      "outputs": [
        {
          "output_type": "stream",
          "name": "stdout",
          "text": [
            "24\n",
            "aAabBbcCcdDdeEefFfgGghHh\n",
            "aaabbbcccdddeeefffggghhh\n",
            "AAABBBCCCDDDEEEFFFGGGHHH\n",
            "2\n",
            "12\n",
            "-1\n",
            "11\n",
            "aAabBbjCjdDdeEefFfgGghHh\n",
            "True\n",
            "False\n"
          ]
        }
      ]
    },
    {
      "cell_type": "markdown",
      "source": [
        "#**Indexing and Slicing**\n",
        "**Index**: when writing a string every character has a index number which starts with 0 from left to right. But from right to left it starts with -1.\n"
      ],
      "metadata": {
        "id": "S9EflO8ex2n2"
      }
    },
    {
      "cell_type": "code",
      "source": [
        "String_i = \"JOKER\"\n",
        "#Note: Large Brackets [] are used to put the index number.\n",
        "print(String_i[4]) \n",
        "print(String_i[-3])\n",
        "print(len(String_i))"
      ],
      "metadata": {
        "id": "keDLGbpmx3_c"
      },
      "execution_count": null,
      "outputs": []
    },
    {
      "cell_type": "markdown",
      "source": [
        "**Slicing:** It is used to slice a string and take a part of it. It is also Defined in large brackets[:],\n",
        "*   [Start Index : End Index : Step Size]\n",
        "*   Output value is always 1 less than the range at the end. \n",
        "*   Start Index is always a lesser value than end value\n",
        "*   End Index is always a bigger value than start value\n",
        "*   Step Size can be positive or negative.\n",
        "\n",
        "**Immutability** : String is locked and therefore it is immutable, once you define it you cannot change it.\n"
      ],
      "metadata": {
        "id": "Gy0mpuGEx868"
      }
    },
    {
      "cell_type": "code",
      "source": [
        "string_s= \"abcdefghijklmnopqrstuvwxyz\"\n",
        "\n",
        "print(string_s[5:16]) # To slice a range from a string\n",
        "print(string_s[:14])  # To slice a range from begining to a certain character\n",
        "print(string_s[16:])  # To slice from a certain character to the end\n",
        "print(string_s[:])    # print the whole string\n",
        "print(string_s[-16:-5]) # To slice range from right to left \n",
        "print(string_s[-17:])   # To slice from right side to right end \n",
        "print(string_s[:-12])   # To slice from right side to left end \n",
        "print(string_s[2:16:2]) # To slice in steps within a range from left side.\n",
        "print(string_s[1:11:-1]) # It result in blank. Since range is going from left to right and steping is going negative therefore contradictory.\n",
        "print(string_s[::-1])    # print a reverse string\n",
        "print(string_s[13:4:-1]) # reverse string with in range from left side"
      ],
      "metadata": {
        "colab": {
          "base_uri": "https://localhost:8080/"
        },
        "id": "MVOQEM-Ox9jE",
        "outputId": "55b30cbc-d3e8-4cf0-e682-aadb96741d92"
      },
      "execution_count": 3,
      "outputs": [
        {
          "output_type": "stream",
          "name": "stdout",
          "text": [
            "fghijklmnop\n",
            "abcdefghijklmn\n",
            "qrstuvwxyz\n",
            "abcdefghijklmnopqrstuvwxyz\n",
            "klmnopqrstu\n",
            "jklmnopqrstuvwxyz\n",
            "abcdefghijklmn\n",
            "cegikmo\n",
            "\n",
            "zyxwvutsrqponmlkjihgfedcba\n",
            "nmlkjihgf\n"
          ]
        }
      ]
    }
  ]
}
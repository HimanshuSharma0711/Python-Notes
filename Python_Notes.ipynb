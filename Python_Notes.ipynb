{
  "nbformat": 4,
  "nbformat_minor": 0,
  "metadata": {
    "colab": {
      "provenance": [],
      "authorship_tag": "ABX9TyOohQnNWfFgDYO7Hi3DbJdp",
      "include_colab_link": true
    },
    "kernelspec": {
      "name": "python3",
      "display_name": "Python 3"
    },
    "language_info": {
      "name": "python"
    }
  },
  "cells": [
    {
      "cell_type": "markdown",
      "metadata": {
        "id": "view-in-github",
        "colab_type": "text"
      },
      "source": [
        "<a href=\"https://colab.research.google.com/github/HimanshuSharma0711/Python-Notes/blob/main/Python_Notes.ipynb\" target=\"_parent\"><img src=\"https://colab.research.google.com/assets/colab-badge.svg\" alt=\"Open In Colab\"/></a>"
      ]
    },
    {
      "cell_type": "code",
      "execution_count": null,
      "metadata": {
        "id": "4SFK1bFD97Fk"
      },
      "outputs": [],
      "source": []
    },
    {
      "cell_type": "markdown",
      "source": [
        "# **Python Notes**\n",
        "\n",
        "**Data Types:**\n",
        "1. Integers : 1,2,3,4 etc\n",
        "2. Float (Decimals) : 0.2, 1.0, 2.5 etc\n",
        "3. Boolean : True or False\n",
        "4. String: Text/Date \"abc\"\n",
        "5. Datetime: DOB\n",
        "\n",
        "**Note: # is use for comment**\n"
      ],
      "metadata": {
        "id": "FoyhkA3i9_-a"
      }
    },
    {
      "cell_type": "code",
      "source": [
        "# 1. Integers : Operations we can do with integers\n",
        "\n",
        "#Additon\n",
        "add = 52 + 48\n",
        "print('Addition: ', add)\n",
        "\n",
        "#Subtraction\n",
        "sub= 56 - 16\n",
        "print('Subtraction: ',sub)\n",
        "\n",
        "#Multiple\n",
        "Multi = 60 * 30\n",
        "print('Multiply: ',Multi)\n",
        "\n",
        "#Division: Division in python are of two types i.e. Direct Division and Floor Division\n",
        "# Direct Division\n",
        "dirDiv = 7/2\n",
        "print('Direct Division: ',dirDiv)\n",
        "\n",
        "#Floor Division: It only gives the interger part not the decimal part, use \"//\" to execute floor Division\n",
        "floordiv = 7//2\n",
        "print('Floor Division: ',floordiv)\n"
      ],
      "metadata": {
        "colab": {
          "base_uri": "https://localhost:8080/"
        },
        "id": "wWGs5x_g--US",
        "outputId": "4aa63424-7a66-44a1-ce12-283b85ef25e2"
      },
      "execution_count": null,
      "outputs": [
        {
          "output_type": "stream",
          "name": "stdout",
          "text": [
            "Addition:  100\n",
            "Subtraction:  40\n",
            "Multiply:  1800\n",
            "Direct Division:  3.5\n",
            "Floor Division:  3\n"
          ]
        }
      ]
    },
    {
      "cell_type": "code",
      "source": [
        "#Power: Instead of using 4^4 use 4**4\n",
        "power = 4**4\n",
        "print('power: ',power)\n",
        "\n",
        "#Modulus: it gives the remainder of the division. '%' do not confuse it with percentage sign\n",
        "Modulus = 10%3\n",
        "print('Modulus: ',Modulus)\n"
      ],
      "metadata": {
        "colab": {
          "base_uri": "https://localhost:8080/"
        },
        "id": "JSqigsFa_1lq",
        "outputId": "fae83da0-4e66-429b-bc2b-ef721eafc7cd"
      },
      "execution_count": null,
      "outputs": [
        {
          "output_type": "stream",
          "name": "stdout",
          "text": [
            "power:  256\n",
            "Modulus:  1\n"
          ]
        }
      ]
    },
    {
      "cell_type": "markdown",
      "source": [
        "**Priority of Operation**\n",
        "Left to Right, '()' High priority\n",
        "Ex. \n",
        " 2+(10*10)+3 = 105\n",
        " 2+10*(10+3)= 132\n",
        "\n",
        "**Scientific Prepresentation of Numbers:**\n",
        "\n",
        "120000 = 1.2E5  i.e. (1.2x 10^5)\n",
        "\n",
        "2933.44 = 293344E-2\n"
      ],
      "metadata": {
        "id": "D0N0hrDyRyZN"
      }
    },
    {
      "cell_type": "markdown",
      "source": [
        "# **Rules for Naming Variable in Python:**\n",
        "\n",
        "\n",
        "1.   Starts with letter or Underscore\n",
        "2.   Remainder of variable name may consist of letters, no. & underscore\n",
        "3.   SpaCy1, phThon, machine_learning are valid names.\n",
        "4.   Names are Case Sensitive\n",
        "5.   c_s, C_S, C_s are each a different variable.\n",
        "6.   Not start with number.\n",
        "7.   Avoid using Python Keywords: def, dict, list, set etc\n",
        "8.   Don't Use space, use '_' underscore.\n",
        "9.   Names can't contain special character: '\",<>/?\\!@%#^&$*-~+\n",
        "10.  It is considered best practice that names are lower case with underscores\n"
      ],
      "metadata": {
        "id": "PVd9g-ukSxb4"
      }
    },
    {
      "cell_type": "markdown",
      "source": [
        "**Boolean Variable:** Comparison operator results in True (1) or False (0)\n",
        "\n",
        "\n",
        "\n",
        "*   '==' Comparison Operation\n",
        "*   '='  Assignment Operator\n",
        "\n",
        "\n",
        "\n",
        "*   a == b (Equal to)\n",
        "*   a != b (Not Equal to)\n",
        "*   a <  b (Smaller than)\n",
        "*   a >  b (Greater Than)\n",
        "*   a >= b (Greater Than equal to)\n",
        "*   a <= b (Smaller than equal to)\n",
        "\n",
        "The result of these operation must be either True or False\n",
        "\n"
      ],
      "metadata": {
        "id": "Kqx6H939V4fT"
      }
    },
    {
      "cell_type": "markdown",
      "source": [
        "# **Introduction To String**\n",
        "\n",
        "\n",
        "*   ' ' Single Quotes\n",
        "*   \" \" Double Quotes\n",
        "*   ''' ''' Triple Quotes\n",
        "(Any data in quotes is called a string)\n",
        "\n",
        "*   \"This is a String\" : all are characters (including space) for Python\n",
        "*   Use Double Quotes(\" \") to use single quotes(' ') in string.\n",
        "*   Use Triple Quotes(''' ''') to use double quotes(\" \") in string.(Generally use to write paragraph.\n",
        "\n",
        "** Escape Sequence Characters** : these are some special characters, which are used as commands either they are in the string or outside.\n",
        "\n",
        "Ex.\n",
        "*  \\n : use to print next line\n",
        "*  \\t : use to print tab space\n",
        "*  \\' : Single Quote\n",
        "*  \\\\ : Backslash\n",
        "\n",
        "\n",
        "\n"
      ],
      "metadata": {
        "id": "FUd68a3RYy5A"
      }
    },
    {
      "cell_type": "code",
      "source": [
        "#Concatenate String: Joinging two or more Strings\n",
        "\n",
        "string1 = \"Hello\"\n",
        "string2 = \"World\"\n",
        "print(string1+string2)\n",
        "\n",
        "print (string1*3)\n"
      ],
      "metadata": {
        "colab": {
          "base_uri": "https://localhost:8080/"
        },
        "id": "M88wiEjXrojj",
        "outputId": "8d24afde-bb88-4a1a-c69d-c8515a49cb65"
      },
      "execution_count": null,
      "outputs": [
        {
          "output_type": "stream",
          "name": "stdout",
          "text": [
            "HelloWorld\n",
            "HelloHelloHello\n"
          ]
        }
      ]
    },
    {
      "cell_type": "markdown",
      "source": [
        "#**String Function & Methods**\n"
      ],
      "metadata": {
        "id": "k1u12FXuwh4z"
      }
    },
    {
      "cell_type": "code",
      "source": [
        "#Funtions\n",
        "stringx = \"aAabBbcCcdDdeEefFfgGghHh\"\n",
        "\n",
        "print(len(stringx))\n",
        "print(stringx)\n",
        "\n",
        "#Methods\n",
        "print(stringx.lower())\n",
        "print(stringx.upper())\n",
        "print(stringx.count('b'))\n",
        "print(stringx.find('e'))\n",
        "print(stringx.find('z')) # an item that doesn't exist in string\n",
        "print(stringx.find('de'))\n",
        "print(stringx.replace(\"c\",\"j\")) #replace function is case sensitive\n",
        "\n",
        "#Search 'in' : This method is use for to check whether a particular term is present in the string or not. It return a boolean\n",
        "stringy = \"this market is full of fruits.\"\n",
        "print('fruits' in stringy)\n",
        "print('vegetables' in stringy)"
      ],
      "metadata": {
        "colab": {
          "base_uri": "https://localhost:8080/"
        },
        "id": "xiVfLwG_wyMT",
        "outputId": "e0197869-253c-40ab-cbf8-a45856d8fe94"
      },
      "execution_count": null,
      "outputs": [
        {
          "output_type": "stream",
          "name": "stdout",
          "text": [
            "24\n",
            "aAabBbcCcdDdeEefFfgGghHh\n",
            "aaabbbcccdddeeefffggghhh\n",
            "AAABBBCCCDDDEEEFFFGGGHHH\n",
            "2\n",
            "12\n",
            "-1\n",
            "11\n",
            "aAabBbjCjdDdeEefFfgGghHh\n",
            "True\n",
            "False\n"
          ]
        }
      ]
    },
    {
      "cell_type": "markdown",
      "source": [
        "#**Indexing and Slicing**\n",
        "**Index**: when writing a string every character has a index number which starts with 0 from left to right. But from right to left it starts with -1.\n"
      ],
      "metadata": {
        "id": "RJkqaHpr1apU"
      }
    },
    {
      "cell_type": "code",
      "source": [
        "String_i = \"JOKER\"\n",
        "#Note: Large Brackets [] are used to put the index number.\n",
        "print(String_i[4]) \n",
        "print(String_i[-3])\n",
        "print(len(String_i))"
      ],
      "metadata": {
        "colab": {
          "base_uri": "https://localhost:8080/"
        },
        "id": "t7ZKhuSD2Mr1",
        "outputId": "064b712d-fab8-41e5-f000-db2f22c1fe89"
      },
      "execution_count": null,
      "outputs": [
        {
          "output_type": "stream",
          "name": "stdout",
          "text": [
            "R\n",
            "K\n",
            "5\n"
          ]
        }
      ]
    },
    {
      "cell_type": "markdown",
      "source": [
        "**Slicing:** It is used to slice a string and take a part of it. It is also Defined in large brackets[:],\n",
        "*   [Start Index : End Index : Step Size]\n",
        "*   Output value is always 1 less than the range at the end. \n",
        "*   Start Index is always a lesser value than end value\n",
        "*   End Index is always a bigger value than start value\n",
        "*   Step Size can be positive or negative.\n",
        "\n",
        "**Immutability** : String is locked and therefore it is immutable, once you define it you cannot change it.\n",
        "\n",
        "\n",
        "\n"
      ],
      "metadata": {
        "id": "C_gEzmIO3TXj"
      }
    },
    {
      "cell_type": "code",
      "source": [
        "string_s= \"abcdefghijklmnopqrstuvwxyz\"\n",
        "\n",
        "print(string_s[5:16]) # To slice a range from a string\n",
        "print(string_s[:14])  # To slice a range from begining to a certain character\n",
        "print(string_s[16:])  # To slice from a certain character to the end\n",
        "print(string_s[:])    # print the whole string\n",
        "print(string_s[-16:-5]) # To slice range from right to left \n",
        "print(string_s[-17:])   # To slice from right side to right end \n",
        "print(string_s[:-12])   # To slice from right side to left end \n",
        "print(string_s[2:16:2]) # To slice in steps within a range from left side.\n",
        "print(string_s[1:11:-1]) # It result in blank. Since range is going from left to right and steping is going negative therefore contradictory.\n",
        "print(string_s[::-1])    # print a reverse string\n",
        "print(string_s[13:4:-1]) # reverse string with in range from left side"
      ],
      "metadata": {
        "colab": {
          "base_uri": "https://localhost:8080/"
        },
        "id": "dHlYN-iN30wD",
        "outputId": "fcc93b48-ea71-4f22-aabf-001517aa6cc7"
      },
      "execution_count": null,
      "outputs": [
        {
          "output_type": "stream",
          "name": "stdout",
          "text": [
            "fghijklmnop\n",
            "abcdefghijklmn\n",
            "qrstuvwxyz\n",
            "abcdefghijklmnopqrstuvwxyz\n",
            "klmnopqrstu\n",
            "jklmnopqrstuvwxyz\n",
            "abcdefghijklmn\n",
            "cegikmo\n",
            "\n",
            "zyxwvutsrqponmlkjihgfedcba\n",
            "nmlkjihgf\n"
          ]
        }
      ]
    },
    {
      "cell_type": "code",
      "source": [
        "a = ['a','b','c']\n",
        "a.extend([[4,5],[5,6],[7,8]])\n",
        "print(a)\n"
      ],
      "metadata": {
        "colab": {
          "base_uri": "https://localhost:8080/"
        },
        "id": "WDa44rLQxLdh",
        "outputId": "12740bb1-0c76-433c-b94b-0dd103c9e66a"
      },
      "execution_count": null,
      "outputs": [
        {
          "output_type": "stream",
          "name": "stdout",
          "text": [
            "['a', 'b', 'c', [4, 5], [5, 6], [7, 8]]\n"
          ]
        }
      ]
    },
    {
      "cell_type": "code",
      "source": [
        "l 1"
      ],
      "metadata": {
        "id": "UkYBbklexoo5"
      },
      "execution_count": null,
      "outputs": []
    }
  ]
}
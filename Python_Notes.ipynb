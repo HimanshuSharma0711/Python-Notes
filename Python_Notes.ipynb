{
  "nbformat": 4,
  "nbformat_minor": 0,
  "metadata": {
    "colab": {
      "provenance": [],
      "authorship_tag": "ABX9TyNSfmROOq1oOTTRCHLdMlDm",
      "include_colab_link": true
    },
    "kernelspec": {
      "name": "python3",
      "display_name": "Python 3"
    },
    "language_info": {
      "name": "python"
    }
  },
  "cells": [
    {
      "cell_type": "markdown",
      "metadata": {
        "id": "view-in-github",
        "colab_type": "text"
      },
      "source": [
        "<a href=\"https://colab.research.google.com/github/HimanshuSharma0711/Python-Notes/blob/main/Python_Notes.ipynb\" target=\"_parent\"><img src=\"https://colab.research.google.com/assets/colab-badge.svg\" alt=\"Open In Colab\"/></a>"
      ]
    },
    {
      "cell_type": "markdown",
      "source": [
        "# **Python Notes**\n",
        "\n",
        "**Data Types:**\n",
        "1. Integers : 1,2,3,4 etc\n",
        "2. Float (Decimals) : 0.2, 1.0, 2.5 etc\n",
        "3. Boolean : True or False\n",
        "4. String: Text/Date \"abc\"\n",
        "5. Datetime: DOB\n",
        "\n",
        "**Note: # is use for comment**\n"
      ],
      "metadata": {
        "id": "FoyhkA3i9_-a"
      }
    },
    {
      "cell_type": "markdown",
      "source": [
        "# **Rules for Naming Variable in Python:**\n",
        "\n",
        "\n",
        "1.   Starts with letter or Underscore\n",
        "2.   Remainder of variable name may consist of letters, no. & underscore\n",
        "3.   SpaCy1, phThon, machine_learning are valid names.\n",
        "4.   Names are Case Sensitive\n",
        "5.   c_s, C_S, C_s are each a different variable.\n",
        "6.   Not start with number.\n",
        "7.   Avoid using Python Keywords: def, dict, list, set etc\n",
        "8.   Don't Use space, use '_' underscore.\n",
        "9.   Names can't contain special character: '\",<>/?\\!@%#^&$*-~+\n",
        "10.  It is considered best practice that names are lower case with underscores\n"
      ],
      "metadata": {
        "id": "PVd9g-ukSxb4"
      }
    },
    {
      "cell_type": "markdown",
      "source": [
        "#**Advance Data Types**\n",
        "* Lists\n",
        "* Sets\n",
        "* Tuple\n",
        "* Dictionary\n",
        "\n",
        "Advance data types can have a collection of Primitive Data types as well as Advance data types."
      ],
      "metadata": {
        "id": "8ihsag4gykXF"
      }
    },
    {
      "cell_type": "markdown",
      "source": [
        "#**Advance Data Types**\n",
        "* Lists\n",
        "* Sets\n",
        "* Tuple\n",
        "* Dictionary\n",
        "\n",
        "Advance data types can have a collection of Primitive Data types as well as Advance data types."
      ],
      "metadata": {
        "id": "jc7faqI4mqBI"
      }
    }
  ]
}
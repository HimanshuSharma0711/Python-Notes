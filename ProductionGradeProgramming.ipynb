{
  "nbformat": 4,
  "nbformat_minor": 0,
  "metadata": {
    "colab": {
      "provenance": [],
      "authorship_tag": "ABX9TyO039uVAKFPs1PXzdlu/qyC",
      "include_colab_link": true
    },
    "kernelspec": {
      "name": "python3",
      "display_name": "Python 3"
    },
    "language_info": {
      "name": "python"
    }
  },
  "cells": [
    {
      "cell_type": "markdown",
      "metadata": {
        "id": "view-in-github",
        "colab_type": "text"
      },
      "source": [
        "<a href=\"https://colab.research.google.com/github/HimanshuSharma0711/Python-Notes/blob/main/ProductionGradeProgramming.ipynb\" target=\"_parent\"><img src=\"https://colab.research.google.com/assets/colab-badge.svg\" alt=\"Open In Colab\"/></a>"
      ]
    },
    {
      "cell_type": "markdown",
      "source": [
        "# **Production Grade Programming**\n",
        "\n",
        "1) Object Oriented Programming (OOPs)\n",
        "\n",
        "a. Objects\n",
        "\n",
        "b. Using 'class' Keyword\n",
        "\n",
        "c. Creating 'class' attributes\n",
        "\n",
        "d. Creating method in class\n",
        "\n",
        "e. Learning about Polymorphism\n",
        "\n",
        "Note: Shortcut for seeing tall method a datatype support : object.tabkey\n",
        "\n",
        "**a. Object** : I python everything is an object ex. list , tuple, all datatypes etc.\n",
        "    \n",
        "Ex. If we want to check the class we use type() function.\n",
        "\n",
        "**b. class:** class is a keyword used to create user defined objects. The class is a blueprint that defines the nature of a future object. From class we can construct intances. An instance is a specific object from a particular class.\n",
        "\n",
        "Ex. empty_list = [ ]\n",
        "            \n",
        "here we created the object empty_list which is an instance of list object."
      ],
      "metadata": {
        "id": "cw35Hy1AL-nT"
      }
    },
    {
      "cell_type": "code",
      "source": [
        "#Example\n",
        "class FirstClass:\n",
        "    pass\n",
        "x = FirstClass()\n",
        "print(type(x))\n",
        "#Result: <class '__main__.FirstClass'>"
      ],
      "metadata": {
        "colab": {
          "base_uri": "https://localhost:8080/"
        },
        "id": "X5pPgRJoMyRf",
        "outputId": "fd25274f-1edd-48a8-81ce-9e44907f95e6"
      },
      "execution_count": 1,
      "outputs": [
        {
          "output_type": "stream",
          "name": "stdout",
          "text": [
            "<class '__main__.FirstClass'>\n"
          ]
        }
      ]
    },
    {
      "cell_type": "markdown",
      "source": [
        "* By convention we give classes a name that starts with a Capital Letter.\n",
        "\n",
        "**c. Attributes:** In Previous example we created the class and just pass. But we can define class attributs and methods. Attribute is a characteristics of an object. A method is an operation we can with the object.\n",
        "\n",
        "Ex. We can create a class called Dog. An attribute of a dog may be its Breed or its Name, while method of a dog maybe \n",
        "    defined by .bark() method which returns a sound.\n",
        "    \n",
        "The syntax for crating an attribute is:\n",
        "\n",
        "**self.attribute = something**\n",
        "\n",
        "where 'self.' is fixed, 'attribute' could be any name or variable, 'something will be the value assign to the attribute.\n",
        "\n",
        "There is a special method called: __init__()\n",
        "\n",
        "This method is used to initialized the attributes of an object."
      ],
      "metadata": {
        "id": "jq1bZmljM3BG"
      }
    },
    {
      "cell_type": "code",
      "source": [
        "#Example:\n",
        "\n",
        "class Dog:\n",
        "    def __init__(self,breed, name):\n",
        "        self.breed = breed\n",
        "        self.name = name\n",
        "\n",
        "sam_object = Dog(breed = 'lab', name = 'sam')\n",
        "frank_object = Dog(breed = 'Husky', name = 'frank')\n",
        "\n",
        "print(sam_object.breed) #lab\n",
        "print(frank_object.name) #frank\n",
        "\n",
        "#Here we do not have any parenthesis after breed; this is because it is an attribute and doesn't take any argument."
      ],
      "metadata": {
        "colab": {
          "base_uri": "https://localhost:8080/"
        },
        "id": "_QwKcGjqNTSo",
        "outputId": "2972ddb5-1975-4a8a-e083-c1e0f5a6ee3c"
      },
      "execution_count": 2,
      "outputs": [
        {
          "output_type": "stream",
          "name": "stdout",
          "text": [
            "lab\n",
            "frank\n"
          ]
        }
      ]
    },
    {
      "cell_type": "markdown",
      "source": [
        "**d. Methods :** Methods are functions defined inside the body of a class. They are used to perform operations with the attributes of our objects. \n",
        "\n",
        "Methods are key concepts of OOPs paradigm. They are essential to dividing responsibilites in programming especially in large applications.\n",
        "\n",
        "You can basically think of methods as functions acting on an object that take the object it self into account through its 'self' argument."
      ],
      "metadata": {
        "id": "ybPpw7tkNgUv"
      }
    },
    {
      "cell_type": "code",
      "source": [
        "#Example:\n",
        "\n",
        "class circle:\n",
        "    def __init__(self,radius = 1):\n",
        "        self.radius = radius\n",
        "        self.area = 3.14*radius*radius\n",
        "\n",
        "    def setRadius(self, New_Radius):\n",
        "        self.radius = New_Radius\n",
        "        self.area = 3.14*New_Radius*New_Radius\n",
        "\n",
        "    def getCircumference(self):\n",
        "        return 2*3.14*self.radius\n",
        "\n",
        "r = circle()\n",
        "\n",
        "print(r.radius)\n",
        "print(r.area)\n",
        "r.setRadius(4)\n",
        "print(r.radius)\n",
        "print(r.area)\n",
        "print(r.getCircumference())"
      ],
      "metadata": {
        "colab": {
          "base_uri": "https://localhost:8080/"
        },
        "id": "jSNbZViKNyv3",
        "outputId": "1c86f1b8-8ed8-42b8-e47c-dd286a5a67b6"
      },
      "execution_count": 3,
      "outputs": [
        {
          "output_type": "stream",
          "name": "stdout",
          "text": [
            "1\n",
            "3.14\n",
            "4\n",
            "50.24\n",
            "25.12\n"
          ]
        }
      ]
    },
    {
      "cell_type": "markdown",
      "source": [
        "**e. Polymorphism:** In Python, Polymorphism refers to the way in which diffent object classes an share the same method name and those methods can be called from the same place even though a variety of different object might be passed in."
      ],
      "metadata": {
        "id": "09U3eDclN6_Y"
      }
    },
    {
      "cell_type": "code",
      "source": [
        "class HouseStark:\n",
        "    def __init__(self, Sigil):\n",
        "        self.sigil = Sigil\n",
        "\n",
        "    def motto(self):\n",
        "        return \"House Stark with sigil \" + self.sigil + \" has the motto 'Winter is coming'\"\n",
        "\n",
        "class HouseLannister:\n",
        "    def __init__(self, Sigil):\n",
        "        self.sigil = Sigil\n",
        "\n",
        "    def motto(self):\n",
        "        return \"House Lannister with sigil \" + self.sigil + \" has the motto 'Hear me Roar'\"\n",
        "\n",
        "arya = HouseStark(\"Dire-Wolf\")\n",
        "tyrion = HouseLannister(\"Golden Lion\")\n",
        "\n",
        "print(arya.motto())\n",
        "print(tyrion.motto())\n",
        "\n",
        "#Another is with Function\n",
        "\n",
        "def get_motto(warrior):\n",
        "    return warrior.motto()\n",
        "\n",
        "print(get_motto(arya))\n",
        "print(get_motto(tyrion))\n",
        "\n",
        "#In both cases we were able to pass in different object types; and we obthained object-specified results from the same mechanism."
      ],
      "metadata": {
        "colab": {
          "base_uri": "https://localhost:8080/"
        },
        "id": "xv-TNR4bOFP-",
        "outputId": "887fb5b2-def8-41b6-bcf1-604c168d3a50"
      },
      "execution_count": 4,
      "outputs": [
        {
          "output_type": "stream",
          "name": "stdout",
          "text": [
            "House Stark with sigil Dire-Wolf has the motto 'Winter is coming'\n",
            "House Lannister with sigil Golden Lion has the motto 'Hear me Roar'\n",
            "House Stark with sigil Dire-Wolf has the motto 'Winter is coming'\n",
            "House Lannister with sigil Golden Lion has the motto 'Hear me Roar'\n"
          ]
        }
      ]
    },
    {
      "cell_type": "markdown",
      "source": [
        "2) Error & Exception Handling:\n",
        "try:\n",
        "except:\n",
        "else:\n",
        "Finally:"
      ],
      "metadata": {
        "id": "nonHzI-_OOBu"
      }
    },
    {
      "cell_type": "markdown",
      "source": [
        "# **3) Real World Use Case:** \n",
        "\n",
        "Uber's Simplified Pricing Model \n",
        "\n",
        "User Input\n",
        "1. Pick up location (latitude & longitude)\n",
        "2. Drop location (latitude & longitude)\n",
        "3. Time of Booking"
      ],
      "metadata": {
        "id": "6Px8Nxh8OUkW"
      }
    },
    {
      "cell_type": "code",
      "source": [
        "# By Normal Method\n",
        "#Step - 1 (Calculate Distance)\n",
        "\n",
        "import geopy.distance as gd\n",
        "def get_distance(l1, l2):\n",
        "    distance = gd.distance(l1,l2).km\n",
        "    return distance\n",
        "\n",
        "def pricePerKm(hr):\n",
        "  if (hr>8) & (hr<11):\n",
        "    price = 20\n",
        "  elif (hr>18)&(hr<21):\n",
        "    price = 15\n",
        "  else:\n",
        "    price = 10\n",
        "  return price\n",
        "\n",
        "def get_fare(pickUp, Drop, timming):\n",
        "  total_distance = get_distance(pickUp, Drop)\n",
        "  Rate = pricePerKm(timming)\n",
        "  Fare = total_distance*Rate\n",
        "  return Fare\n",
        "\n",
        "a = get_fare([24,74],[26,75],23)\n",
        "print(a)"
      ],
      "metadata": {
        "colab": {
          "base_uri": "https://localhost:8080/"
        },
        "id": "J0GscQQLOn9e",
        "outputId": "1a0aad8d-43db-43f2-b948-197fa01bcf65"
      },
      "execution_count": 5,
      "outputs": [
        {
          "output_type": "stream",
          "name": "stdout",
          "text": [
            "2434.5792397073615\n"
          ]
        }
      ]
    },
    {
      "cell_type": "code",
      "source": [
        "# By Production Grade Programming\n",
        "import math\n",
        "import geopy.distance as gd\n",
        "class maps:\n",
        "    def __init__(self):\n",
        "        pass\n",
        "\n",
        "    def get_distance(self, l1, l2):\n",
        "        try:\n",
        "            distance = gd.distance(l1, l2).km\n",
        "        except:\n",
        "            distance = math.sqrt((l1[0] - l2[0]) ^ 2 + (l1[1] - l2[0]) ^ 2)\n",
        "\n",
        "        return distance\n",
        "\n",
        "\n",
        "class surgePrice:\n",
        "    def __init__(self):\n",
        "        pass\n",
        "\n",
        "    def get_price(self, hr):\n",
        "        try:\n",
        "            if (hr > 8) & (hr < 11):\n",
        "                price = 20\n",
        "            elif (hr > 18) & (hr < 21):\n",
        "                price = 15\n",
        "            else:\n",
        "                price = 10\n",
        "\n",
        "        except:\n",
        "            price = 10\n",
        "\n",
        "        return price\n",
        "\n",
        "\n",
        "def get_fare(pickUp, Drop, timming):\n",
        "    map = maps()\n",
        "    surge = surgePrice()\n",
        "\n",
        "    total_distance = map.get_distance(pickUp, Drop)\n",
        "    Rate = surge.get_price(timming)\n",
        "    Fare = total_distance * Rate\n",
        "    return Fare\n",
        "\n",
        "\n",
        "a = get_fare([24, 74], [26, 75], 23)\n",
        "print(a)"
      ],
      "metadata": {
        "colab": {
          "base_uri": "https://localhost:8080/"
        },
        "id": "FaoUWsNGL_14",
        "outputId": "0c3b099e-4a1d-4f51-9e38-127ddadaa0dd"
      },
      "execution_count": 6,
      "outputs": [
        {
          "output_type": "stream",
          "name": "stdout",
          "text": [
            "2434.5792397073615\n"
          ]
        }
      ]
    }
  ]
}
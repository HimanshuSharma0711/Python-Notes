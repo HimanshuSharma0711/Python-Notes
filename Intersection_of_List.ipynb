{
  "nbformat": 4,
  "nbformat_minor": 0,
  "metadata": {
    "colab": {
      "provenance": [],
      "authorship_tag": "ABX9TyOpATDvsg5FJDKAL0ZTfdi9",
      "include_colab_link": true
    },
    "kernelspec": {
      "name": "python3",
      "display_name": "Python 3"
    },
    "language_info": {
      "name": "python"
    }
  },
  "cells": [
    {
      "cell_type": "markdown",
      "metadata": {
        "id": "view-in-github",
        "colab_type": "text"
      },
      "source": [
        "<a href=\"https://colab.research.google.com/github/HimanshuSharma0711/Python-Notes/blob/main/Intersection_of_List.ipynb\" target=\"_parent\"><img src=\"https://colab.research.google.com/assets/colab-badge.svg\" alt=\"Open In Colab\"/></a>"
      ]
    },
    {
      "cell_type": "markdown",
      "source": [
        "# **Intersection of List Code**"
      ],
      "metadata": {
        "id": "ac7fVDNEcfdz"
      }
    },
    {
      "cell_type": "code",
      "source": [
        "def get_Intersection(lsts):\n",
        "    min_len = len(lsts[0])\n",
        "    for l in lsts:\n",
        "        if len(l) <= min_len:\n",
        "            min_len = len(l)\n",
        "            min_list = l\n",
        "\n",
        "    d = {}\n",
        "    for elem in min_list:\n",
        "        if elem in d.keys():\n",
        "            d[elem] = d[elem]+1\n",
        "        else:\n",
        "            d[elem]= 1\n",
        "\n",
        "    for key in d.keys():\n",
        "        for l in lsts:\n",
        "            count = 0\n",
        "            for item in l:\n",
        "                if key == item:\n",
        "                    count = count + 1\n",
        "            if d[key] > count:\n",
        "                d[key] = count\n",
        "\n",
        "    lst = []\n",
        "    for k,v in d.items():\n",
        "        for v in range(v):\n",
        "            lst.append(k)\n",
        "    return lst"
      ],
      "metadata": {
        "id": "6nhstIB1cpUE"
      },
      "execution_count": 1,
      "outputs": []
    },
    {
      "cell_type": "code",
      "source": [
        "input = [[5,7,6,4,5],\n",
        "         [5,5,7,8,4,9,6],\n",
        "         [5,8,7,4,6,8]]\n",
        "\n",
        "get_Intersection(input)"
      ],
      "metadata": {
        "colab": {
          "base_uri": "https://localhost:8080/"
        },
        "id": "BA03hyhScvL5",
        "outputId": "9ae8ae27-4c13-42a8-e761-05dbdca03699"
      },
      "execution_count": 2,
      "outputs": [
        {
          "output_type": "execute_result",
          "data": {
            "text/plain": [
              "[5, 7, 6, 4]"
            ]
          },
          "metadata": {},
          "execution_count": 2
        }
      ]
    }
  ]
}